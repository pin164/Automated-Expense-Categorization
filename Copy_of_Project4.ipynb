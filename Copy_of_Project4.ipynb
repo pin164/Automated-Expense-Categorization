{
  "cells": [
    {
      "cell_type": "markdown",
      "metadata": {
        "id": "view-in-github",
        "colab_type": "text"
      },
      "source": [
        "<a href=\"https://colab.research.google.com/github/pin164/Automated-Expense-Categorization/blob/main/Copy_of_Project4.ipynb\" target=\"_parent\"><img src=\"https://colab.research.google.com/assets/colab-badge.svg\" alt=\"Open In Colab\"/></a>"
      ]
    },
    {
      "cell_type": "code",
      "execution_count": 1,
      "metadata": {
        "colab": {
          "base_uri": "https://localhost:8080/"
        },
        "id": "8YQpHpkO7njs",
        "outputId": "519c5b06-3d0e-4d69-cbfa-69827cf6ecf9"
      },
      "outputs": [
        {
          "output_type": "stream",
          "name": "stdout",
          "text": [
            "Mounted at /content/drive\n"
          ]
        }
      ],
      "source": [
        "# STEP 1\n",
        "# Import  dependencies\n",
        "from sklearn.model_selection import train_test_split\n",
        "from sklearn.preprocessing import StandardScaler\n",
        "import pandas as pd\n",
        "import tensorflow as tf\n",
        "from tensorflow.keras import layers, models\n",
        "from tensorflow.keras.callbacks import ModelCheckpoint\n",
        "from tensorflow.keras.callbacks import Callback\n",
        "\n",
        "\n",
        "from google.colab import drive\n",
        "drive.mount('/content/drive')\n",
        "\n"
      ]
    },
    {
      "cell_type": "markdown",
      "metadata": {
        "id": "swR5fPqo7njq"
      },
      "source": [
        "## Preprocessing"
      ]
    },
    {
      "cell_type": "code",
      "source": [
        "# STEP 2\n",
        "#  Import and read the Cleaned_Invoice_3.csv\n",
        "\n",
        "application_df = pd.read_csv(\"/content/drive/MyDrive/Project 4/Cleaned_Invoice_3.csv\",encoding='latin1').iloc[:,:14]\n",
        "application_df.head()"
      ],
      "metadata": {
        "colab": {
          "base_uri": "https://localhost:8080/",
          "height": 503
        },
        "id": "I4Q-Adw327x0",
        "outputId": "bd0a43de-8e48-4117-aa47-12917d92e21c"
      },
      "execution_count": 2,
      "outputs": [
        {
          "output_type": "execute_result",
          "data": {
            "text/plain": [
              "       Column2 Month    Year         PO# Invoice Date Invoice#  \\\n",
              "0  vendor 1042   Mar  2022.0  6101206151   2022-03-31   275769   \n",
              "1  vendor 1042   Mar  2022.0  6101206151   2022-03-31   275769   \n",
              "2  vendor 1042   Mar  2022.0  6101206151   2022-03-31   275769   \n",
              "3  vendor 1042   Mar  2022.0  6101206151   2022-03-31   275769   \n",
              "4  vendor 1042   Mar  2022.0  6101206151   2022-03-31   275769   \n",
              "\n",
              "   total Invoice Amt          TRS  \\\n",
              "0         $22,844.75   SDS9089963   \n",
              "1         $22,844.75   SDS9089877   \n",
              "2         $22,844.75   SDS9084483   \n",
              "3         $22,844.75   SDS9089761   \n",
              "4         $22,844.75   SDS9090105   \n",
              "\n",
              "                                          Project2      Amount   \\\n",
              "0  Student Records Management System - Project-228   $4,555.25    \n",
              "1                 Travel MB GP Upgrade to 2016 - 0     $650.75    \n",
              "2                  Portable Benefit Form - XY11351     $274.00    \n",
              "3       MI - HIS Replacement Project (Project-027)   $9,076.25    \n",
              "4                  Corporater - Balanced Scorecard   $4,521.00    \n",
              "\n",
              "                           Cost Centre       Order# Column3  Column1  \n",
              "0                               140548  311107202.0     ZDT        1  \n",
              "1                               165039  311107504.0     FVN        2  \n",
              "2                               205697  311107169.0      TT        3  \n",
              "3                            100013025  311107192.0      MV        4  \n",
              "4  195403; IO 100013486; PO 4501231722  311107217.0     SKJ        5  "
            ],
            "text/html": [
              "\n",
              "  <div id=\"df-539b6bfe-62cd-4ac9-aef7-d0d95b05afc1\" class=\"colab-df-container\">\n",
              "    <div>\n",
              "<style scoped>\n",
              "    .dataframe tbody tr th:only-of-type {\n",
              "        vertical-align: middle;\n",
              "    }\n",
              "\n",
              "    .dataframe tbody tr th {\n",
              "        vertical-align: top;\n",
              "    }\n",
              "\n",
              "    .dataframe thead th {\n",
              "        text-align: right;\n",
              "    }\n",
              "</style>\n",
              "<table border=\"1\" class=\"dataframe\">\n",
              "  <thead>\n",
              "    <tr style=\"text-align: right;\">\n",
              "      <th></th>\n",
              "      <th>Column2</th>\n",
              "      <th>Month</th>\n",
              "      <th>Year</th>\n",
              "      <th>PO#</th>\n",
              "      <th>Invoice Date</th>\n",
              "      <th>Invoice#</th>\n",
              "      <th>total Invoice Amt</th>\n",
              "      <th>TRS</th>\n",
              "      <th>Project2</th>\n",
              "      <th>Amount</th>\n",
              "      <th>Cost Centre</th>\n",
              "      <th>Order#</th>\n",
              "      <th>Column3</th>\n",
              "      <th>Column1</th>\n",
              "    </tr>\n",
              "  </thead>\n",
              "  <tbody>\n",
              "    <tr>\n",
              "      <th>0</th>\n",
              "      <td>vendor 1042</td>\n",
              "      <td>Mar</td>\n",
              "      <td>2022.0</td>\n",
              "      <td>6101206151</td>\n",
              "      <td>2022-03-31</td>\n",
              "      <td>275769</td>\n",
              "      <td>$22,844.75</td>\n",
              "      <td>SDS9089963</td>\n",
              "      <td>Student Records Management System - Project-228</td>\n",
              "      <td>$4,555.25</td>\n",
              "      <td>140548</td>\n",
              "      <td>311107202.0</td>\n",
              "      <td>ZDT</td>\n",
              "      <td>1</td>\n",
              "    </tr>\n",
              "    <tr>\n",
              "      <th>1</th>\n",
              "      <td>vendor 1042</td>\n",
              "      <td>Mar</td>\n",
              "      <td>2022.0</td>\n",
              "      <td>6101206151</td>\n",
              "      <td>2022-03-31</td>\n",
              "      <td>275769</td>\n",
              "      <td>$22,844.75</td>\n",
              "      <td>SDS9089877</td>\n",
              "      <td>Travel MB GP Upgrade to 2016 - 0</td>\n",
              "      <td>$650.75</td>\n",
              "      <td>165039</td>\n",
              "      <td>311107504.0</td>\n",
              "      <td>FVN</td>\n",
              "      <td>2</td>\n",
              "    </tr>\n",
              "    <tr>\n",
              "      <th>2</th>\n",
              "      <td>vendor 1042</td>\n",
              "      <td>Mar</td>\n",
              "      <td>2022.0</td>\n",
              "      <td>6101206151</td>\n",
              "      <td>2022-03-31</td>\n",
              "      <td>275769</td>\n",
              "      <td>$22,844.75</td>\n",
              "      <td>SDS9084483</td>\n",
              "      <td>Portable Benefit Form - XY11351</td>\n",
              "      <td>$274.00</td>\n",
              "      <td>205697</td>\n",
              "      <td>311107169.0</td>\n",
              "      <td>TT</td>\n",
              "      <td>3</td>\n",
              "    </tr>\n",
              "    <tr>\n",
              "      <th>3</th>\n",
              "      <td>vendor 1042</td>\n",
              "      <td>Mar</td>\n",
              "      <td>2022.0</td>\n",
              "      <td>6101206151</td>\n",
              "      <td>2022-03-31</td>\n",
              "      <td>275769</td>\n",
              "      <td>$22,844.75</td>\n",
              "      <td>SDS9089761</td>\n",
              "      <td>MI - HIS Replacement Project (Project-027)</td>\n",
              "      <td>$9,076.25</td>\n",
              "      <td>100013025</td>\n",
              "      <td>311107192.0</td>\n",
              "      <td>MV</td>\n",
              "      <td>4</td>\n",
              "    </tr>\n",
              "    <tr>\n",
              "      <th>4</th>\n",
              "      <td>vendor 1042</td>\n",
              "      <td>Mar</td>\n",
              "      <td>2022.0</td>\n",
              "      <td>6101206151</td>\n",
              "      <td>2022-03-31</td>\n",
              "      <td>275769</td>\n",
              "      <td>$22,844.75</td>\n",
              "      <td>SDS9090105</td>\n",
              "      <td>Corporater - Balanced Scorecard</td>\n",
              "      <td>$4,521.00</td>\n",
              "      <td>195403; IO 100013486; PO 4501231722</td>\n",
              "      <td>311107217.0</td>\n",
              "      <td>SKJ</td>\n",
              "      <td>5</td>\n",
              "    </tr>\n",
              "  </tbody>\n",
              "</table>\n",
              "</div>\n",
              "    <div class=\"colab-df-buttons\">\n",
              "\n",
              "  <div class=\"colab-df-container\">\n",
              "    <button class=\"colab-df-convert\" onclick=\"convertToInteractive('df-539b6bfe-62cd-4ac9-aef7-d0d95b05afc1')\"\n",
              "            title=\"Convert this dataframe to an interactive table.\"\n",
              "            style=\"display:none;\">\n",
              "\n",
              "  <svg xmlns=\"http://www.w3.org/2000/svg\" height=\"24px\" viewBox=\"0 -960 960 960\">\n",
              "    <path d=\"M120-120v-720h720v720H120Zm60-500h600v-160H180v160Zm220 220h160v-160H400v160Zm0 220h160v-160H400v160ZM180-400h160v-160H180v160Zm440 0h160v-160H620v160ZM180-180h160v-160H180v160Zm440 0h160v-160H620v160Z\"/>\n",
              "  </svg>\n",
              "    </button>\n",
              "\n",
              "  <style>\n",
              "    .colab-df-container {\n",
              "      display:flex;\n",
              "      gap: 12px;\n",
              "    }\n",
              "\n",
              "    .colab-df-convert {\n",
              "      background-color: #E8F0FE;\n",
              "      border: none;\n",
              "      border-radius: 50%;\n",
              "      cursor: pointer;\n",
              "      display: none;\n",
              "      fill: #1967D2;\n",
              "      height: 32px;\n",
              "      padding: 0 0 0 0;\n",
              "      width: 32px;\n",
              "    }\n",
              "\n",
              "    .colab-df-convert:hover {\n",
              "      background-color: #E2EBFA;\n",
              "      box-shadow: 0px 1px 2px rgba(60, 64, 67, 0.3), 0px 1px 3px 1px rgba(60, 64, 67, 0.15);\n",
              "      fill: #174EA6;\n",
              "    }\n",
              "\n",
              "    .colab-df-buttons div {\n",
              "      margin-bottom: 4px;\n",
              "    }\n",
              "\n",
              "    [theme=dark] .colab-df-convert {\n",
              "      background-color: #3B4455;\n",
              "      fill: #D2E3FC;\n",
              "    }\n",
              "\n",
              "    [theme=dark] .colab-df-convert:hover {\n",
              "      background-color: #434B5C;\n",
              "      box-shadow: 0px 1px 3px 1px rgba(0, 0, 0, 0.15);\n",
              "      filter: drop-shadow(0px 1px 2px rgba(0, 0, 0, 0.3));\n",
              "      fill: #FFFFFF;\n",
              "    }\n",
              "  </style>\n",
              "\n",
              "    <script>\n",
              "      const buttonEl =\n",
              "        document.querySelector('#df-539b6bfe-62cd-4ac9-aef7-d0d95b05afc1 button.colab-df-convert');\n",
              "      buttonEl.style.display =\n",
              "        google.colab.kernel.accessAllowed ? 'block' : 'none';\n",
              "\n",
              "      async function convertToInteractive(key) {\n",
              "        const element = document.querySelector('#df-539b6bfe-62cd-4ac9-aef7-d0d95b05afc1');\n",
              "        const dataTable =\n",
              "          await google.colab.kernel.invokeFunction('convertToInteractive',\n",
              "                                                    [key], {});\n",
              "        if (!dataTable) return;\n",
              "\n",
              "        const docLinkHtml = 'Like what you see? Visit the ' +\n",
              "          '<a target=\"_blank\" href=https://colab.research.google.com/notebooks/data_table.ipynb>data table notebook</a>'\n",
              "          + ' to learn more about interactive tables.';\n",
              "        element.innerHTML = '';\n",
              "        dataTable['output_type'] = 'display_data';\n",
              "        await google.colab.output.renderOutput(dataTable, element);\n",
              "        const docLink = document.createElement('div');\n",
              "        docLink.innerHTML = docLinkHtml;\n",
              "        element.appendChild(docLink);\n",
              "      }\n",
              "    </script>\n",
              "  </div>\n",
              "\n",
              "\n",
              "<div id=\"df-23ba14a8-4179-4a7d-8b1b-701f0c69f784\">\n",
              "  <button class=\"colab-df-quickchart\" onclick=\"quickchart('df-23ba14a8-4179-4a7d-8b1b-701f0c69f784')\"\n",
              "            title=\"Suggest charts\"\n",
              "            style=\"display:none;\">\n",
              "\n",
              "<svg xmlns=\"http://www.w3.org/2000/svg\" height=\"24px\"viewBox=\"0 0 24 24\"\n",
              "     width=\"24px\">\n",
              "    <g>\n",
              "        <path d=\"M19 3H5c-1.1 0-2 .9-2 2v14c0 1.1.9 2 2 2h14c1.1 0 2-.9 2-2V5c0-1.1-.9-2-2-2zM9 17H7v-7h2v7zm4 0h-2V7h2v10zm4 0h-2v-4h2v4z\"/>\n",
              "    </g>\n",
              "</svg>\n",
              "  </button>\n",
              "\n",
              "<style>\n",
              "  .colab-df-quickchart {\n",
              "      --bg-color: #E8F0FE;\n",
              "      --fill-color: #1967D2;\n",
              "      --hover-bg-color: #E2EBFA;\n",
              "      --hover-fill-color: #174EA6;\n",
              "      --disabled-fill-color: #AAA;\n",
              "      --disabled-bg-color: #DDD;\n",
              "  }\n",
              "\n",
              "  [theme=dark] .colab-df-quickchart {\n",
              "      --bg-color: #3B4455;\n",
              "      --fill-color: #D2E3FC;\n",
              "      --hover-bg-color: #434B5C;\n",
              "      --hover-fill-color: #FFFFFF;\n",
              "      --disabled-bg-color: #3B4455;\n",
              "      --disabled-fill-color: #666;\n",
              "  }\n",
              "\n",
              "  .colab-df-quickchart {\n",
              "    background-color: var(--bg-color);\n",
              "    border: none;\n",
              "    border-radius: 50%;\n",
              "    cursor: pointer;\n",
              "    display: none;\n",
              "    fill: var(--fill-color);\n",
              "    height: 32px;\n",
              "    padding: 0;\n",
              "    width: 32px;\n",
              "  }\n",
              "\n",
              "  .colab-df-quickchart:hover {\n",
              "    background-color: var(--hover-bg-color);\n",
              "    box-shadow: 0 1px 2px rgba(60, 64, 67, 0.3), 0 1px 3px 1px rgba(60, 64, 67, 0.15);\n",
              "    fill: var(--button-hover-fill-color);\n",
              "  }\n",
              "\n",
              "  .colab-df-quickchart-complete:disabled,\n",
              "  .colab-df-quickchart-complete:disabled:hover {\n",
              "    background-color: var(--disabled-bg-color);\n",
              "    fill: var(--disabled-fill-color);\n",
              "    box-shadow: none;\n",
              "  }\n",
              "\n",
              "  .colab-df-spinner {\n",
              "    border: 2px solid var(--fill-color);\n",
              "    border-color: transparent;\n",
              "    border-bottom-color: var(--fill-color);\n",
              "    animation:\n",
              "      spin 1s steps(1) infinite;\n",
              "  }\n",
              "\n",
              "  @keyframes spin {\n",
              "    0% {\n",
              "      border-color: transparent;\n",
              "      border-bottom-color: var(--fill-color);\n",
              "      border-left-color: var(--fill-color);\n",
              "    }\n",
              "    20% {\n",
              "      border-color: transparent;\n",
              "      border-left-color: var(--fill-color);\n",
              "      border-top-color: var(--fill-color);\n",
              "    }\n",
              "    30% {\n",
              "      border-color: transparent;\n",
              "      border-left-color: var(--fill-color);\n",
              "      border-top-color: var(--fill-color);\n",
              "      border-right-color: var(--fill-color);\n",
              "    }\n",
              "    40% {\n",
              "      border-color: transparent;\n",
              "      border-right-color: var(--fill-color);\n",
              "      border-top-color: var(--fill-color);\n",
              "    }\n",
              "    60% {\n",
              "      border-color: transparent;\n",
              "      border-right-color: var(--fill-color);\n",
              "    }\n",
              "    80% {\n",
              "      border-color: transparent;\n",
              "      border-right-color: var(--fill-color);\n",
              "      border-bottom-color: var(--fill-color);\n",
              "    }\n",
              "    90% {\n",
              "      border-color: transparent;\n",
              "      border-bottom-color: var(--fill-color);\n",
              "    }\n",
              "  }\n",
              "</style>\n",
              "\n",
              "  <script>\n",
              "    async function quickchart(key) {\n",
              "      const quickchartButtonEl =\n",
              "        document.querySelector('#' + key + ' button');\n",
              "      quickchartButtonEl.disabled = true;  // To prevent multiple clicks.\n",
              "      quickchartButtonEl.classList.add('colab-df-spinner');\n",
              "      try {\n",
              "        const charts = await google.colab.kernel.invokeFunction(\n",
              "            'suggestCharts', [key], {});\n",
              "      } catch (error) {\n",
              "        console.error('Error during call to suggestCharts:', error);\n",
              "      }\n",
              "      quickchartButtonEl.classList.remove('colab-df-spinner');\n",
              "      quickchartButtonEl.classList.add('colab-df-quickchart-complete');\n",
              "    }\n",
              "    (() => {\n",
              "      let quickchartButtonEl =\n",
              "        document.querySelector('#df-23ba14a8-4179-4a7d-8b1b-701f0c69f784 button');\n",
              "      quickchartButtonEl.style.display =\n",
              "        google.colab.kernel.accessAllowed ? 'block' : 'none';\n",
              "    })();\n",
              "  </script>\n",
              "</div>\n",
              "\n",
              "    </div>\n",
              "  </div>\n"
            ],
            "application/vnd.google.colaboratory.intrinsic+json": {
              "type": "dataframe",
              "variable_name": "application_df",
              "summary": "{\n  \"name\": \"application_df\",\n  \"rows\": 10566,\n  \"fields\": [\n    {\n      \"column\": \"Column2\",\n      \"properties\": {\n        \"dtype\": \"category\",\n        \"num_unique_values\": 45,\n        \"samples\": [\n          \"vendor 1010\",\n          \"vendor 1043\",\n          \"vendor 1024\"\n        ],\n        \"semantic_type\": \"\",\n        \"description\": \"\"\n      }\n    },\n    {\n      \"column\": \"Month\",\n      \"properties\": {\n        \"dtype\": \"category\",\n        \"num_unique_values\": 50,\n        \"samples\": [\n          \"Sept\",\n          \"Sept (3)\",\n          \"Mar (4)\"\n        ],\n        \"semantic_type\": \"\",\n        \"description\": \"\"\n      }\n    },\n    {\n      \"column\": \"Year\",\n      \"properties\": {\n        \"dtype\": \"number\",\n        \"std\": 0.9558137256393275,\n        \"min\": 2019.0,\n        \"max\": 2024.0,\n        \"num_unique_values\": 6,\n        \"samples\": [\n          2022.0,\n          2021.0,\n          2019.0\n        ],\n        \"semantic_type\": \"\",\n        \"description\": \"\"\n      }\n    },\n    {\n      \"column\": \"PO#\",\n      \"properties\": {\n        \"dtype\": \"category\",\n        \"num_unique_values\": 472,\n        \"samples\": [\n          \"6101209299\",\n          \"6101209283\",\n          \"6101183668\"\n        ],\n        \"semantic_type\": \"\",\n        \"description\": \"\"\n      }\n    },\n    {\n      \"column\": \"Invoice Date\",\n      \"properties\": {\n        \"dtype\": \"object\",\n        \"num_unique_values\": 463,\n        \"samples\": [\n          \"2024-01-04\",\n          \"2024-02-28\",\n          \"2024-05-23\"\n        ],\n        \"semantic_type\": \"\",\n        \"description\": \"\"\n      }\n    },\n    {\n      \"column\": \"Invoice#\",\n      \"properties\": {\n        \"dtype\": \"category\",\n        \"num_unique_values\": 3436,\n        \"samples\": [\n          \"CINV1618261\",\n          \"S36855\",\n          \"4340\"\n        ],\n        \"semantic_type\": \"\",\n        \"description\": \"\"\n      }\n    },\n    {\n      \"column\": \" total Invoice Amt \",\n      \"properties\": {\n        \"dtype\": \"category\",\n        \"num_unique_values\": 1975,\n        \"samples\": [\n          \" $24,997.50 \",\n          \" $11,100.00 \",\n          \" $18,062.50 \"\n        ],\n        \"semantic_type\": \"\",\n        \"description\": \"\"\n      }\n    },\n    {\n      \"column\": \"TRS\",\n      \"properties\": {\n        \"dtype\": \"category\",\n        \"num_unique_values\": 476,\n        \"samples\": [\n          \"SOM7081797\",\n          \"RtQ090054\",\n          \"SDS9090485\"\n        ],\n        \"semantic_type\": \"\",\n        \"description\": \"\"\n      }\n    },\n    {\n      \"column\": \"Project2\",\n      \"properties\": {\n        \"dtype\": \"category\",\n        \"num_unique_values\": 609,\n        \"samples\": [\n          \"Corporate Roadmap - Labour, Consumer Protection and Government SRVs\",\n          \"ERP Modernization\",\n          \" PRoMPT \\u0096 Maintenance\"\n        ],\n        \"semantic_type\": \"\",\n        \"description\": \"\"\n      }\n    },\n    {\n      \"column\": \" Amount \",\n      \"properties\": {\n        \"dtype\": \"category\",\n        \"num_unique_values\": 4895,\n        \"samples\": [\n          \" $8,165.00 \",\n          \" $287.50 \",\n          \" $800.00 \"\n        ],\n        \"semantic_type\": \"\",\n        \"description\": \"\"\n      }\n    },\n    {\n      \"column\": \"Cost Centre\",\n      \"properties\": {\n        \"dtype\": \"category\",\n        \"num_unique_values\": 113,\n        \"samples\": [\n          \"210095\",\n          \"195403; IO 100013486; PO 4501231722\",\n          \"3650600; IO 930076150\"\n        ],\n        \"semantic_type\": \"\",\n        \"description\": \"\"\n      }\n    },\n    {\n      \"column\": \"Order#\",\n      \"properties\": {\n        \"dtype\": \"number\",\n        \"std\": 325800911.67356896,\n        \"min\": 0.0,\n        \"max\": 941194110.0,\n        \"num_unique_values\": 205,\n        \"samples\": [\n          311107233.0,\n          941184594.0,\n          311107502.0\n        ],\n        \"semantic_type\": \"\",\n        \"description\": \"\"\n      }\n    },\n    {\n      \"column\": \"Column3\",\n      \"properties\": {\n        \"dtype\": \"category\",\n        \"num_unique_values\": 23,\n        \"samples\": [\n          \"TZN - LVR\",\n          \"VT\",\n          \"ZDT\"\n        ],\n        \"semantic_type\": \"\",\n        \"description\": \"\"\n      }\n    },\n    {\n      \"column\": \"Column1\",\n      \"properties\": {\n        \"dtype\": \"number\",\n        \"std\": 3768,\n        \"min\": 1,\n        \"max\": 12631,\n        \"num_unique_values\": 10566,\n        \"samples\": [\n          4187,\n          3427,\n          8780\n        ],\n        \"semantic_type\": \"\",\n        \"description\": \"\"\n      }\n    }\n  ]\n}"
            }
          },
          "metadata": {},
          "execution_count": 2
        }
      ]
    },
    {
      "cell_type": "code",
      "execution_count": null,
      "metadata": {
        "id": "9i6hemPy7nju"
      },
      "outputs": [],
      "source": [
        "# STEP 3\n",
        "# #extract beneficial columns only\n",
        "X_df = application_df[['Column2','']]\n",
        "Y_df =application_df['Cost Centre']"
      ]
    },
    {
      "cell_type": "code",
      "execution_count": null,
      "metadata": {
        "id": "SmpDa_Ed7nju"
      },
      "outputs": [],
      "source": [
        "# STEP 4\n",
        "# # Determine the number of unique values in each column.\n",
        "unique_values = application_df.nunique()"
      ]
    },
    {
      "cell_type": "code",
      "execution_count": null,
      "metadata": {
        "id": "-PE3sqdo0BKK"
      },
      "outputs": [],
      "source": []
    },
    {
      "cell_type": "code",
      "execution_count": null,
      "metadata": {
        "colab": {
          "base_uri": "https://localhost:8080/"
        },
        "id": "5cZpOrVz7nju",
        "outputId": "3e1e8c80-7848-4e09-920d-b2eb98e0a6e7"
      },
      "outputs": [
        {
          "output_type": "stream",
          "name": "stdout",
          "text": [
            "\n",
            "Number of Unique Values per Column:\n",
            "Column2                   45\n",
            "PO#                      472\n",
            "Invoice Date             463\n",
            "Invoice#                3436\n",
            " total Invoice Amt      1975\n",
            "TRS                      476\n",
            "Project2                 609\n",
            " Amount                 4895\n",
            "Cost Centre              113\n",
            "Order#                   205\n",
            "Column3                   23\n",
            "Column1                10566\n",
            "dtype: int64\n"
          ]
        }
      ],
      "source": [
        "# STEP 5\n",
        "# # Display the number of unique values for each column\n",
        "print(\"\\nNumber of Unique Values per Column:\")\n",
        "print(unique_values)\n"
      ]
    },
    {
      "cell_type": "code",
      "execution_count": null,
      "metadata": {
        "colab": {
          "base_uri": "https://localhost:8080/"
        },
        "id": "oq68ssdd0CXj",
        "outputId": "bc2b8e86-9551-4e50-84b0-e6159cbff677"
      },
      "outputs": [
        {
          "output_type": "stream",
          "name": "stdout",
          "text": [
            "\n",
            "Column: PO# (Unique Values: 472)\n",
            "PO#\n",
            "6101213429    351\n",
            "6101219237    148\n",
            "6101255227    135\n",
            "6101119371    130\n",
            "6101228053    113\n",
            "             ... \n",
            "6101277801      1\n",
            "6101278893      1\n",
            "6101254432      1\n",
            "6101248837      1\n",
            "6101285610      1\n",
            "Name: count, Length: 472, dtype: int64\n",
            "\n",
            "Column: Invoice Date (Unique Values: 463)\n",
            "Invoice Date\n",
            "2022-11-30    360\n",
            "2023-03-31    329\n",
            "2023-02-28    312\n",
            "2023-01-31    303\n",
            "2023-05-31    302\n",
            "             ... \n",
            "2022-01-21      1\n",
            "2023-10-26      1\n",
            "2021-07-30      1\n",
            "2022-01-15      1\n",
            "2023-01-09      1\n",
            "Name: count, Length: 463, dtype: int64\n",
            "\n",
            "Column: Invoice# (Unique Values: 3436)\n",
            "Invoice#\n",
            "999999        312\n",
            "S38990         36\n",
            "S38592         35\n",
            "S39389A        32\n",
            "S39640         32\n",
            "             ... \n",
            "9202032966      1\n",
            "9679172         1\n",
            "9666625         1\n",
            "INV0001344      1\n",
            "6041543         1\n",
            "Name: count, Length: 3436, dtype: int64\n",
            "\n",
            "Column: TRS (Unique Values: 476)\n",
            "TRS\n",
            "SDS9090226    472\n",
            "999999        312\n",
            "RtQ089502     292\n",
            "RtQ086192     177\n",
            "RtQ090054     170\n",
            "             ... \n",
            "SDS9090524      1\n",
            "SOM7080922      1\n",
            "RtQ086541       1\n",
            "SOM7081792      1\n",
            "SDS9090580      1\n",
            "Name: count, Length: 476, dtype: int64\n",
            "\n",
            "Column: Project2 (Unique Values: 609)\n",
            "Project2\n",
            "0119-14-Project B - IP Telephony                                   411\n",
            "PNP-125073-Enhancement 1.0.30                                      312\n",
            "Project Management (For the Weeks Ending September 11, 18, 25)     292\n",
            "new                                                                179\n",
            "Microsoft 365  (Project-193)                                       170\n",
            "                                                                  ... \n",
            "CLIB-Project-012 OCM Strategy                                        1\n",
            "MTI-71 - Transition support to Kyndryl for LBIS                      1\n",
            "Non-Project - Project B Process Mapping                              1\n",
            "ERP - ABAP                                                           1\n",
            "Project-1028 - Strat Planning Alignment - Business SW - Scope-1      1\n",
            "Name: count, Length: 609, dtype: int64\n",
            "\n",
            "Column:  Amount  (Unique Values: 4895)\n",
            " Amount \n",
            "$-             38\n",
            "$19,575.00     34\n",
            "$132.28        26\n",
            "$128.52        26\n",
            "$121.00        26\n",
            "               ..\n",
            "$7,297.50       1\n",
            "$4,702.50       1\n",
            "$19,402.50      1\n",
            "$12,642.50      1\n",
            "$8,511.30       1\n",
            "Name: count, Length: 4895, dtype: int64\n",
            "\n",
            "Column: Cost Centre (Unique Values: 113)\n",
            "Cost Centre\n",
            "171318       1593\n",
            "171293        869\n",
            "171225        546\n",
            "0             299\n",
            "165155        195\n",
            "             ... \n",
            "195496          3\n",
            "165212          2\n",
            "930076150       1\n",
            "3650530         1\n",
            "930084351       1\n",
            "Name: count, Length: 113, dtype: int64\n",
            "\n",
            "Column: Order# (Unique Values: 205)\n",
            "Order#\n",
            "0.0            457\n",
            "941192357.0    294\n",
            "941184306.0    202\n",
            "941188172.0    158\n",
            "411113663.0    147\n",
            "              ... \n",
            "941189222.0      1\n",
            "941192879.0      1\n",
            "311107700.0      1\n",
            "251113600.0      1\n",
            "511141386.0      1\n",
            "Name: count, Length: 205, dtype: int64\n"
          ]
        }
      ],
      "source": [
        "#For columns with more than 10 unique values,\n",
        "#determine the number of data points for each unique value and print them.\n",
        "\n",
        "# Loop through each column and find columns with more than 100 unique values\n",
        "for column in application_df.columns:\n",
        "    if application_df[column].nunique() > 100:\n",
        "        print(f\"\\nColumn: {column} (Unique Values: {application_df[column].nunique()})\")\n",
        "\n",
        "        # Count the number of data points for each unique value in the column\n",
        "        value_counts = application_df[column].value_counts()\n",
        "\n",
        "        # Print the value counts for the column\n",
        "        print(value_counts)"
      ]
    },
    {
      "cell_type": "code",
      "execution_count": null,
      "metadata": {
        "colab": {
          "base_uri": "https://localhost:8080/"
        },
        "id": "0_8sZxLw7nju",
        "outputId": "5d40a549-757f-48dd-ff11-9ee224345ca6"
      },
      "outputs": [
        {
          "output_type": "stream",
          "name": "stdout",
          "text": [
            "\n",
            "Value Counts for 'APPLICATION_TYPE':\n",
            "APPLICATION_TYPE\n",
            "T3     27037\n",
            "T4      1542\n",
            "T6      1216\n",
            "T5      1173\n",
            "T19     1065\n",
            "T8       737\n",
            "T7       725\n",
            "T10      528\n",
            "T9       156\n",
            "T13       66\n",
            "T12       27\n",
            "T2        16\n",
            "T25        3\n",
            "T14        3\n",
            "T29        2\n",
            "T15        2\n",
            "T17        1\n",
            "Name: count, dtype: int64\n"
          ]
        }
      ],
      "source": [
        "# STEP 6\n",
        "# # Look at APPLICATION_TYPE value counts to identify and replace with \"Other\"\n",
        "# Use the `value_counts()` method to count the occurrences of each unique value in the 'APPLICATION_TYPE' column\n",
        "application_type_counts = application_df['APPLICATION_TYPE'].value_counts()\n",
        "\n",
        "# STEP 7\n",
        "# # Display the value counts for 'APPLICATION_TYPE'\n",
        "print(\"\\nValue Counts for 'APPLICATION_TYPE':\")\n",
        "print(application_type_counts)"
      ]
    },
    {
      "cell_type": "code",
      "execution_count": null,
      "metadata": {
        "colab": {
          "base_uri": "https://localhost:8080/"
        },
        "id": "HThgpzY37njv",
        "outputId": "7c3975a9-7cba-467b-9dfc-610f48d7f9b7"
      },
      "outputs": [
        {
          "output_type": "stream",
          "name": "stdout",
          "text": [
            "\n",
            "Application Types to be Replaced with 'Other':\n",
            "['T9', 'T13', 'T12', 'T2', 'T25', 'T14', 'T29', 'T15', 'T17']\n"
          ]
        }
      ],
      "source": [
        "# STEP 8\n",
        "# # Choose a cutoff value of 500 and create a list of application types to be replaced\n",
        "# This define a threshold to determine which 'APPLICATION_TYPE' categories are considered rare.\n",
        "# Categories with counts below this threshold will be replaced with 'Other'.\n",
        "# This helps in reducing the number of categories, simplifying the dataset, and improving model performance.\n",
        "# use the variable name `application_types_to_replace`\n",
        "\n",
        "# Define the cutoff value\n",
        "threshold = 500\n",
        "\n",
        "# Create a list of application types that have fewer than 'threshold' occurrences of500\n",
        "# - application_type_counts < threshold: Creates a boolean Series where True indicates counts below the threshold\n",
        "# - [application_type_counts < threshold]: Filters the Series to include only those rows where the condition is True\n",
        "# - .index.tolist(): Extracts the index (application type names) of the filtered Series and converts it to a list\n",
        "application_types_to_replace = application_type_counts[application_type_counts < threshold].index.tolist()\n",
        "\n",
        "#\n",
        "\n",
        "# Display the list of application types to be replaced with 'Other'\n",
        "print(\"\\nApplication Types to be Replaced with 'Other':\")\n",
        "print(application_types_to_replace)"
      ]
    },
    {
      "cell_type": "code",
      "execution_count": null,
      "metadata": {
        "id": "2GRUF7aR7njv"
      },
      "outputs": [],
      "source": [
        "# STEP 9\n",
        "#\n",
        "# Replace all occurrences of rare application types (identified in 'application_types_to_replace') with the label 'Other'.\n",
        "# This consolidates infrequent categories into a single category, reducing noise and simplifying the dataset.\n",
        "\n",
        "#\n",
        "# - 'APPLICATION_TYPE' is the column we're modifying\n",
        "# - 'application_types_to_replace' is the list of values to be replaced\n",
        "# - 'Other' is the new value that replaces the rare categories"
      ]
    },
    {
      "cell_type": "code",
      "execution_count": null,
      "metadata": {
        "colab": {
          "base_uri": "https://localhost:8080/"
        },
        "id": "Bzq02Ufe7njv",
        "outputId": "646bfaab-8201-42f9-b359-8ba909508330"
      },
      "outputs": [
        {
          "output_type": "stream",
          "name": "stdout",
          "text": [
            "\n",
            "Updated 'APPLICATION_TYPE' Value Counts After Replacement:\n",
            "APPLICATION_TYPE\n",
            "T3       27037\n",
            "T4        1542\n",
            "T6        1216\n",
            "T5        1173\n",
            "T19       1065\n",
            "T8         737\n",
            "T7         725\n",
            "T10        528\n",
            "Other      276\n",
            "Name: count, dtype: int64\n"
          ]
        }
      ],
      "source": [
        "# STEP 10\n",
        "# # Replace in dataframe\n",
        "for app in application_types_to_replace:\n",
        "    application_df['APPLICATION_TYPE'] = application_df['APPLICATION_TYPE'].replace(app,\"Other\")\n",
        "\n",
        "# Check to make sure replacement was successful\n",
        "# Verify the changes by displaying the updated 'APPLICATION_TYPE' value counts\n",
        "print(\"\\nUpdated 'APPLICATION_TYPE' Value Counts After Replacement:\")\n",
        "print(application_df['APPLICATION_TYPE'].value_counts())"
      ]
    },
    {
      "cell_type": "code",
      "execution_count": null,
      "metadata": {
        "colab": {
          "base_uri": "https://localhost:8080/"
        },
        "id": "vSZS0R517njw",
        "outputId": "3478a392-f446-474a-a26d-a2af240ef605"
      },
      "outputs": [
        {
          "output_type": "stream",
          "name": "stdout",
          "text": [
            "\n",
            "Value Counts for 'CLASSIFICATION':\n",
            "CLASSIFICATION\n",
            "C1000    17326\n",
            "C2000     6074\n",
            "C1200     4837\n",
            "C3000     1918\n",
            "C2100     1883\n",
            "         ...  \n",
            "C4120        1\n",
            "C8210        1\n",
            "C2561        1\n",
            "C4500        1\n",
            "C2150        1\n",
            "Name: count, Length: 71, dtype: int64\n"
          ]
        }
      ],
      "source": [
        "# Step 11: Examine the 'CLASSIFICATION' Value Counts\n",
        "\n",
        "# Use the `value_counts()` method to count the occurrences of each unique value in the 'CLASSIFICATION' column\n",
        "classification_counts = application_df['CLASSIFICATION'].value_counts()\n",
        "# Display the value counts for 'CLASSIFICATION'\n",
        "print(\"\\nValue Counts for 'CLASSIFICATION':\")\n",
        "print(classification_counts)"
      ]
    },
    {
      "cell_type": "code",
      "execution_count": null,
      "metadata": {
        "id": "56X2rbfC7njw"
      },
      "outputs": [],
      "source": []
    },
    {
      "cell_type": "code",
      "execution_count": null,
      "metadata": {
        "colab": {
          "base_uri": "https://localhost:8080/"
        },
        "id": "cigHK0aO7njw",
        "outputId": "b7642287-ebbc-42e8-ffb3-b0ed70db7adf"
      },
      "outputs": [
        {
          "output_type": "stream",
          "name": "stdout",
          "text": [
            "\n",
            "'CLASSIFICATION' Categories with More Than 1 Occurrence:\n",
            "CLASSIFICATION\n",
            "C1000    17326\n",
            "C2000     6074\n",
            "C1200     4837\n",
            "C3000     1918\n",
            "C2100     1883\n",
            "C7000      777\n",
            "C1700      287\n",
            "C4000      194\n",
            "C5000      116\n",
            "C1270      114\n",
            "C2700      104\n",
            "C2800       95\n",
            "C7100       75\n",
            "C1300       58\n",
            "C1280       50\n",
            "C1230       36\n",
            "C1400       34\n",
            "C7200       32\n",
            "C2300       32\n",
            "C1240       30\n",
            "C8000       20\n",
            "C7120       18\n",
            "C1500       16\n",
            "C1800       15\n",
            "C6000       15\n",
            "C1250       14\n",
            "C8200       11\n",
            "C1238       10\n",
            "C1278       10\n",
            "C1235        9\n",
            "C1237        9\n",
            "C7210        7\n",
            "C2400        6\n",
            "C1720        6\n",
            "C4100        6\n",
            "C1257        5\n",
            "C1600        5\n",
            "C1260        3\n",
            "C2710        3\n",
            "C0           3\n",
            "C3200        2\n",
            "C1234        2\n",
            "C1246        2\n",
            "C1267        2\n",
            "C1256        2\n",
            "Name: count, dtype: int64\n"
          ]
        }
      ],
      "source": [
        "#step 12\n",
        "#  Look at CLASSIFICATION value counts >1\n",
        "#  Identifying classifications that have more than 1 occurrence\n",
        "# Filters the classifications to include only those with more than one occurrence,\n",
        "# which identifies meaningful classes for the model and handles rare classes appropriately.\n",
        "classification_counts_gt1 = classification_counts[classification_counts > 1]\n",
        "\n",
        "# Displaying the classifications with counts greater than 1\n",
        "print(\"\\n'CLASSIFICATION' Categories with More Than 1 Occurrence:\")\n",
        "print(classification_counts_gt1)"
      ]
    },
    {
      "cell_type": "code",
      "execution_count": null,
      "metadata": {
        "colab": {
          "base_uri": "https://localhost:8080/"
        },
        "id": "jnRLeI9V7njw",
        "outputId": "83abca53-71f6-46fa-c605-f2bc9874d000"
      },
      "outputs": [
        {
          "output_type": "stream",
          "name": "stdout",
          "text": [
            "\n",
            "Classifications to be Replaced with 'Other':\n",
            "['C7000', 'C1700', 'C4000', 'C5000', 'C1270', 'C2700', 'C2800', 'C7100', 'C1300', 'C1280', 'C1230', 'C1400', 'C7200', 'C2300', 'C1240', 'C8000', 'C7120', 'C1500', 'C1800', 'C6000', 'C1250', 'C8200', 'C1238', 'C1278', 'C1235', 'C1237', 'C7210', 'C2400', 'C1720', 'C4100', 'C1257', 'C1600', 'C1260', 'C2710', 'C0', 'C3200', 'C1234', 'C1246', 'C1267', 'C1256', 'C2190', 'C4200', 'C2600', 'C5200', 'C1370', 'C1248', 'C6100', 'C1820', 'C1900', 'C1236', 'C3700', 'C2570', 'C1580', 'C1245', 'C2500', 'C1570', 'C1283', 'C2380', 'C1732', 'C1728', 'C2170', 'C4120', 'C8210', 'C2561', 'C4500', 'C2150']\n"
          ]
        }
      ],
      "source": [
        "# Step 13:\n",
        "#  Choose a cutoff value of 1000 and create a list of classifications to be replaced\n",
        "# This list replaces less frequent classifications with a common category, called \"Other\".\n",
        "# This helps in reducing the complexity of the model by minimizing the number of unique classes.\n",
        "\n",
        "# Define the cutoff value\n",
        "cutoff = 1000  # Any classification with fewer than 1000 occurrences will be replaced\n",
        "\n",
        "#classifications_to_replace = classification_counts_gt1[classification_counts_gt1 < cutoff].index.tolist()\n",
        "classifications_to_replace = classification_counts[classification_counts < cutoff].index.tolist()\n",
        "\n",
        "# Display the list of classifications that will be replaced with 'Other'\n",
        "print(\"\\nClassifications to be Replaced with 'Other':\")\n",
        "print(classifications_to_replace)\n"
      ]
    },
    {
      "cell_type": "code",
      "execution_count": null,
      "metadata": {
        "colab": {
          "base_uri": "https://localhost:8080/",
          "height": 303
        },
        "id": "JleV2ia07njw",
        "outputId": "ba52667a-f378-4c7e-a6f9-ddfc098fa376"
      },
      "outputs": [
        {
          "output_type": "execute_result",
          "data": {
            "text/plain": [
              "CLASSIFICATION\n",
              "C1000    17326\n",
              "C2000     6074\n",
              "C1200     4837\n",
              "Other     2261\n",
              "C3000     1918\n",
              "C2100     1883\n",
              "Name: count, dtype: int64"
            ],
            "text/html": [
              "<div>\n",
              "<style scoped>\n",
              "    .dataframe tbody tr th:only-of-type {\n",
              "        vertical-align: middle;\n",
              "    }\n",
              "\n",
              "    .dataframe tbody tr th {\n",
              "        vertical-align: top;\n",
              "    }\n",
              "\n",
              "    .dataframe thead th {\n",
              "        text-align: right;\n",
              "    }\n",
              "</style>\n",
              "<table border=\"1\" class=\"dataframe\">\n",
              "  <thead>\n",
              "    <tr style=\"text-align: right;\">\n",
              "      <th></th>\n",
              "      <th>count</th>\n",
              "    </tr>\n",
              "    <tr>\n",
              "      <th>CLASSIFICATION</th>\n",
              "      <th></th>\n",
              "    </tr>\n",
              "  </thead>\n",
              "  <tbody>\n",
              "    <tr>\n",
              "      <th>C1000</th>\n",
              "      <td>17326</td>\n",
              "    </tr>\n",
              "    <tr>\n",
              "      <th>C2000</th>\n",
              "      <td>6074</td>\n",
              "    </tr>\n",
              "    <tr>\n",
              "      <th>C1200</th>\n",
              "      <td>4837</td>\n",
              "    </tr>\n",
              "    <tr>\n",
              "      <th>Other</th>\n",
              "      <td>2261</td>\n",
              "    </tr>\n",
              "    <tr>\n",
              "      <th>C3000</th>\n",
              "      <td>1918</td>\n",
              "    </tr>\n",
              "    <tr>\n",
              "      <th>C2100</th>\n",
              "      <td>1883</td>\n",
              "    </tr>\n",
              "  </tbody>\n",
              "</table>\n",
              "</div><br><label><b>dtype:</b> int64</label>"
            ]
          },
          "metadata": {},
          "execution_count": 13
        }
      ],
      "source": [
        "#Step 14\n",
        "# Replace in dataframe\n",
        "for cls in classifications_to_replace:\n",
        "    application_df['CLASSIFICATION'] = application_df['CLASSIFICATION'].replace(cls,\"Other\")\n",
        "\n",
        "# Check to make sure replacement was successful\n",
        "application_df['CLASSIFICATION'].value_counts()"
      ]
    },
    {
      "cell_type": "code",
      "execution_count": null,
      "metadata": {
        "colab": {
          "base_uri": "https://localhost:8080/"
        },
        "id": "H7DhgTSg7njw",
        "outputId": "5f836e07-c130-40da-c349-81ab2d581349"
      },
      "outputs": [
        {
          "output_type": "stream",
          "name": "stdout",
          "text": [
            "\n",
            "Encoded DataFrame (First 5 Rows):\n",
            "   STATUS  ASK_AMT  IS_SUCCESSFUL  APPLICATION_TYPE_Other  \\\n",
            "0       1     5000              1                   False   \n",
            "1       1   108590              1                   False   \n",
            "2       1     5000              0                   False   \n",
            "3       1     6692              1                   False   \n",
            "4       1   142590              1                   False   \n",
            "\n",
            "   APPLICATION_TYPE_T10  APPLICATION_TYPE_T19  APPLICATION_TYPE_T3  \\\n",
            "0                  True                 False                False   \n",
            "1                 False                 False                 True   \n",
            "2                 False                 False                False   \n",
            "3                 False                 False                 True   \n",
            "4                 False                 False                 True   \n",
            "\n",
            "   APPLICATION_TYPE_T4  APPLICATION_TYPE_T5  APPLICATION_TYPE_T6  ...  \\\n",
            "0                False                False                False  ...   \n",
            "1                False                False                False  ...   \n",
            "2                False                 True                False  ...   \n",
            "3                False                False                False  ...   \n",
            "4                False                False                False  ...   \n",
            "\n",
            "   INCOME_AMT_1-9999  INCOME_AMT_10000-24999  INCOME_AMT_100000-499999  \\\n",
            "0              False                   False                     False   \n",
            "1               True                   False                     False   \n",
            "2              False                   False                     False   \n",
            "3              False                    True                     False   \n",
            "4              False                   False                      True   \n",
            "\n",
            "   INCOME_AMT_10M-50M  INCOME_AMT_1M-5M  INCOME_AMT_25000-99999  \\\n",
            "0               False             False                   False   \n",
            "1               False             False                   False   \n",
            "2               False             False                   False   \n",
            "3               False             False                   False   \n",
            "4               False             False                   False   \n",
            "\n",
            "   INCOME_AMT_50M+  INCOME_AMT_5M-10M  SPECIAL_CONSIDERATIONS_N  \\\n",
            "0            False              False                      True   \n",
            "1            False              False                      True   \n",
            "2            False              False                      True   \n",
            "3            False              False                      True   \n",
            "4            False              False                      True   \n",
            "\n",
            "   SPECIAL_CONSIDERATIONS_Y  \n",
            "0                     False  \n",
            "1                     False  \n",
            "2                     False  \n",
            "3                     False  \n",
            "4                     False  \n",
            "\n",
            "[5 rows x 44 columns]\n"
          ]
        }
      ],
      "source": [
        "# Convert categorical data to numeric with `pd.get_dummies`\n",
        "# Step 15: Convert Categorical Data to Numeric Using One-Hot Encoding\n",
        "\n",
        "# Use pd.get_dummies() to convert categorical columns into numeric columns\n",
        "# This function automatically handles categorical columns by converting them to a binary (0 or 1) format\n",
        "# The 'drop_first=True' argument is used to avoid the dummy variable trap, but here include all columns\n",
        "\n",
        "application_df_encoded = pd.get_dummies(application_df)\n",
        "\n",
        "# Display the first few rows of the newly encoded dataframe\n",
        "# This will show how the categorical columns have been transformed into numerical ones\n",
        "print(\"\\nEncoded DataFrame (First 5 Rows):\")\n",
        "print(application_df_encoded.head())\n"
      ]
    },
    {
      "cell_type": "code",
      "execution_count": null,
      "metadata": {
        "colab": {
          "base_uri": "https://localhost:8080/"
        },
        "id": "9tEdgOwk7njx",
        "outputId": "2e637e58-0cfa-4bc5-bc6c-f63e7929f97a"
      },
      "outputs": [
        {
          "output_type": "stream",
          "name": "stdout",
          "text": [
            "Training Features Shape: (27439, 43)\n",
            "Testing Features Shape: (6860, 43)\n",
            "Training Target Shape: (27439,)\n",
            "Testing Target Shape: (6860,)\n"
          ]
        }
      ],
      "source": [
        "# Step 16: Split the Data into Features (X) and Target (y)\n",
        "\n",
        "# The target variable is assumed. 'IS_SUCCESSFUL' is the target column.\n",
        "#\n",
        "y = application_df_encoded['IS_SUCCESSFUL'].values  # Target variable\n",
        "\n",
        "# The features will include all other columns except for the target\n",
        "X = application_df_encoded.drop(columns=['IS_SUCCESSFUL']).values  # Feature variables\n",
        "\n",
        "# Split the Data into Training and Testing Sets\n",
        "\n",
        "# Use train_test_split to split the data into training and testing sets\n",
        "# test_size=0.2 means 20% of the data will be used for testing, and 80% for training\n",
        "# random_state ensures reproducibility of the split\n",
        "X_train, X_test, y_train, y_test = train_test_split(X, y, test_size=0.2, random_state=42)\n",
        "\n",
        "# Display the shapes of the resulting datasets to verify the split\n",
        "print(\"Training Features Shape:\", X_train.shape)\n",
        "print(\"Testing Features Shape:\", X_test.shape)\n",
        "print(\"Training Target Shape:\", y_train.shape)\n",
        "print(\"Testing Target Shape:\", y_test.shape)\n"
      ]
    },
    {
      "cell_type": "code",
      "execution_count": null,
      "metadata": {
        "id": "zuejx4uE7njx"
      },
      "outputs": [],
      "source": [
        "#Step 17:   Create a StandardScaler instances\n",
        "scaler = StandardScaler()\n",
        "\n",
        "# Fit the StandardScaler\n",
        "X_scaler = scaler.fit(X_train)\n",
        "\n",
        "# Scale the data\n",
        "X_train_scaled = X_scaler.transform(X_train)\n",
        "X_test_scaled = X_scaler.transform(X_test)"
      ]
    },
    {
      "cell_type": "code",
      "execution_count": null,
      "metadata": {
        "id": "rdkUPqJ5_rEe"
      },
      "outputs": [],
      "source": [
        "\n"
      ]
    },
    {
      "cell_type": "markdown",
      "metadata": {
        "id": "2mCqY5jrJ7Bp"
      },
      "source": []
    },
    {
      "cell_type": "markdown",
      "metadata": {
        "id": "dhkGCMFx7njx"
      },
      "source": [
        "## Compile, Train and Evaluate the Model"
      ]
    },
    {
      "cell_type": "code",
      "execution_count": null,
      "metadata": {
        "colab": {
          "base_uri": "https://localhost:8080/"
        },
        "id": "an8QsPYF90pc",
        "outputId": "108d4671-b8d5-4ea9-e5f7-29edd0ff9f86"
      },
      "outputs": [
        {
          "output_type": "stream",
          "name": "stdout",
          "text": [
            "Number of input features: 43\n"
          ]
        }
      ],
      "source": [
        "# Step 18: Create the Neural Network Model Using TensorFlow and Keras\n",
        "\n",
        "# Step 18.1: Determine the Number of Input Features\n",
        "# The number of input features is equal to the number of columns in X_train_scaled\n",
        "num_features = X_train_scaled.shape[1]\n",
        "print(f\"Number of input features: {num_features}\")\n",
        "\n"
      ]
    },
    {
      "cell_type": "code",
      "execution_count": null,
      "metadata": {
        "colab": {
          "base_uri": "https://localhost:8080/",
          "height": 287
        },
        "id": "Q9cLRes-7njx",
        "outputId": "4e07b727-845a-4e4d-e742-9b92fdef9d81"
      },
      "outputs": [
        {
          "output_type": "stream",
          "name": "stderr",
          "text": [
            "/usr/local/lib/python3.10/dist-packages/keras/src/layers/core/dense.py:87: UserWarning: Do not pass an `input_shape`/`input_dim` argument to a layer. When using Sequential models, prefer using an `Input(shape)` object as the first layer in the model instead.\n",
            "  super().__init__(activity_regularizer=activity_regularizer, **kwargs)\n"
          ]
        },
        {
          "output_type": "display_data",
          "data": {
            "text/plain": [
              "\u001b[1mModel: \"sequential\"\u001b[0m\n"
            ],
            "text/html": [
              "<pre style=\"white-space:pre;overflow-x:auto;line-height:normal;font-family:Menlo,'DejaVu Sans Mono',consolas,'Courier New',monospace\"><span style=\"font-weight: bold\">Model: \"sequential\"</span>\n",
              "</pre>\n"
            ]
          },
          "metadata": {}
        },
        {
          "output_type": "display_data",
          "data": {
            "text/plain": [
              "┏━━━━━━━━━━━━━━━━━━━━━━━━━━━━━━━━━━━━━━┳━━━━━━━━━━━━━━━━━━━━━━━━━━━━━┳━━━━━━━━━━━━━━━━━┓\n",
              "┃\u001b[1m \u001b[0m\u001b[1mLayer (type)                        \u001b[0m\u001b[1m \u001b[0m┃\u001b[1m \u001b[0m\u001b[1mOutput Shape               \u001b[0m\u001b[1m \u001b[0m┃\u001b[1m \u001b[0m\u001b[1m        Param #\u001b[0m\u001b[1m \u001b[0m┃\n",
              "┡━━━━━━━━━━━━━━━━━━━━━━━━━━━━━━━━━━━━━━╇━━━━━━━━━━━━━━━━━━━━━━━━━━━━━╇━━━━━━━━━━━━━━━━━┩\n",
              "│ dense (\u001b[38;5;33mDense\u001b[0m)                        │ (\u001b[38;5;45mNone\u001b[0m, \u001b[38;5;34m80\u001b[0m)                  │           \u001b[38;5;34m3,520\u001b[0m │\n",
              "├──────────────────────────────────────┼─────────────────────────────┼─────────────────┤\n",
              "│ dense_1 (\u001b[38;5;33mDense\u001b[0m)                      │ (\u001b[38;5;45mNone\u001b[0m, \u001b[38;5;34m30\u001b[0m)                  │           \u001b[38;5;34m2,430\u001b[0m │\n",
              "├──────────────────────────────────────┼─────────────────────────────┼─────────────────┤\n",
              "│ dense_2 (\u001b[38;5;33mDense\u001b[0m)                      │ (\u001b[38;5;45mNone\u001b[0m, \u001b[38;5;34m1\u001b[0m)                   │              \u001b[38;5;34m31\u001b[0m │\n",
              "└──────────────────────────────────────┴─────────────────────────────┴─────────────────┘\n"
            ],
            "text/html": [
              "<pre style=\"white-space:pre;overflow-x:auto;line-height:normal;font-family:Menlo,'DejaVu Sans Mono',consolas,'Courier New',monospace\">┏━━━━━━━━━━━━━━━━━━━━━━━━━━━━━━━━━━━━━━┳━━━━━━━━━━━━━━━━━━━━━━━━━━━━━┳━━━━━━━━━━━━━━━━━┓\n",
              "┃<span style=\"font-weight: bold\"> Layer (type)                         </span>┃<span style=\"font-weight: bold\"> Output Shape                </span>┃<span style=\"font-weight: bold\">         Param # </span>┃\n",
              "┡━━━━━━━━━━━━━━━━━━━━━━━━━━━━━━━━━━━━━━╇━━━━━━━━━━━━━━━━━━━━━━━━━━━━━╇━━━━━━━━━━━━━━━━━┩\n",
              "│ dense (<span style=\"color: #0087ff; text-decoration-color: #0087ff\">Dense</span>)                        │ (<span style=\"color: #00d7ff; text-decoration-color: #00d7ff\">None</span>, <span style=\"color: #00af00; text-decoration-color: #00af00\">80</span>)                  │           <span style=\"color: #00af00; text-decoration-color: #00af00\">3,520</span> │\n",
              "├──────────────────────────────────────┼─────────────────────────────┼─────────────────┤\n",
              "│ dense_1 (<span style=\"color: #0087ff; text-decoration-color: #0087ff\">Dense</span>)                      │ (<span style=\"color: #00d7ff; text-decoration-color: #00d7ff\">None</span>, <span style=\"color: #00af00; text-decoration-color: #00af00\">30</span>)                  │           <span style=\"color: #00af00; text-decoration-color: #00af00\">2,430</span> │\n",
              "├──────────────────────────────────────┼─────────────────────────────┼─────────────────┤\n",
              "│ dense_2 (<span style=\"color: #0087ff; text-decoration-color: #0087ff\">Dense</span>)                      │ (<span style=\"color: #00d7ff; text-decoration-color: #00d7ff\">None</span>, <span style=\"color: #00af00; text-decoration-color: #00af00\">1</span>)                   │              <span style=\"color: #00af00; text-decoration-color: #00af00\">31</span> │\n",
              "└──────────────────────────────────────┴─────────────────────────────┴─────────────────┘\n",
              "</pre>\n"
            ]
          },
          "metadata": {}
        },
        {
          "output_type": "display_data",
          "data": {
            "text/plain": [
              "\u001b[1m Total params: \u001b[0m\u001b[38;5;34m5,981\u001b[0m (23.36 KB)\n"
            ],
            "text/html": [
              "<pre style=\"white-space:pre;overflow-x:auto;line-height:normal;font-family:Menlo,'DejaVu Sans Mono',consolas,'Courier New',monospace\"><span style=\"font-weight: bold\"> Total params: </span><span style=\"color: #00af00; text-decoration-color: #00af00\">5,981</span> (23.36 KB)\n",
              "</pre>\n"
            ]
          },
          "metadata": {}
        },
        {
          "output_type": "display_data",
          "data": {
            "text/plain": [
              "\u001b[1m Trainable params: \u001b[0m\u001b[38;5;34m5,981\u001b[0m (23.36 KB)\n"
            ],
            "text/html": [
              "<pre style=\"white-space:pre;overflow-x:auto;line-height:normal;font-family:Menlo,'DejaVu Sans Mono',consolas,'Courier New',monospace\"><span style=\"font-weight: bold\"> Trainable params: </span><span style=\"color: #00af00; text-decoration-color: #00af00\">5,981</span> (23.36 KB)\n",
              "</pre>\n"
            ]
          },
          "metadata": {}
        },
        {
          "output_type": "display_data",
          "data": {
            "text/plain": [
              "\u001b[1m Non-trainable params: \u001b[0m\u001b[38;5;34m0\u001b[0m (0.00 B)\n"
            ],
            "text/html": [
              "<pre style=\"white-space:pre;overflow-x:auto;line-height:normal;font-family:Menlo,'DejaVu Sans Mono',consolas,'Courier New',monospace\"><span style=\"font-weight: bold\"> Non-trainable params: </span><span style=\"color: #00af00; text-decoration-color: #00af00\">0</span> (0.00 B)\n",
              "</pre>\n"
            ]
          },
          "metadata": {}
        }
      ],
      "source": [
        "\n",
        "# Step 18.2: Initialize the Sequential Model\n",
        "# The Sequential API buildsthe model layer by layer\n",
        "nn = tf.keras.models.Sequential()\n",
        "\n",
        "# Step 18.3: Add the First Hidden Layer\n",
        "# - Number of neurons in the first layer\n",
        "first_neuron = 80\n",
        "# - Activation function: ReLU (Rectified Linear Unit) is commonly used for hidden layers\n",
        "# - Input dim: Specifies the shape of the input data (only needed for the first layer)\n",
        "nn.add(layers.Dense(first_neuron, activation='relu', input_dim=num_features))\n",
        "\n",
        "# - `Dense` layer is a fully connected layer.\n",
        "# - `first_neuron` neurons in this layer.\n",
        "# - `activation='relu'` introduces non-linearity, allowing the model to learn complex patterns.\n",
        "# - `input_dime=(num_features,)` specifies the shape of the input data.\n",
        "\n",
        "\n",
        "# Step 18.4: Add the Second Hidden Layer\n",
        "# Adding another hidden layer can help the model learn more complex patterns\n",
        "# - Number of neurons in the second layer\n",
        "second_neuron = 30\n",
        "# - Activation function: ReLU\n",
        "nn.add(layers.Dense(second_neuron, activation='relu'))\n",
        "# - `second_neuron` neurons in the second hidden layer.\n",
        "# - Using ReLU activation function.\n",
        "# - No need to specify `input_shape` for subsequent layers as Keras automatically infers it.\n",
        "\n",
        "\n",
        "\n",
        "\n",
        "# Step 18.5: Add the Output Layer\n",
        "# - For binary classification, we use 1 neuron with a sigmoid activation function\n",
        "# - Activation function: Sigmoid to output a probability between 0 and 1\n",
        "nn.add(layers.Dense(1, activation='sigmoid'))\n",
        "\n",
        "# - `1` neuron because we're predicting a single binary outcome.\n",
        "# - `activation='sigmoid'` outputs a value between 0 and 1, representing the probability of the positive class.\n",
        "\n",
        "# Step 18.6: Review the Model Structure\n",
        "# This will print a summary of the model architecture, including layers, output shapes, and the number of parameters\n",
        "# Check the structure of the model\n",
        "nn.summary()\n",
        "# - `model.summary()` provides a detailed overview of the model, which is useful for verifying the architecture."
      ]
    },
    {
      "cell_type": "markdown",
      "metadata": {
        "id": "vwaPxXQzNqJ7"
      },
      "source": [
        "Explanation of the Summary:\n",
        "\n",
        "*   Layer Names: Each layer is named automatically (e.g., dense, dense_1, dense_2)\n",
        "*   Output Shapes: Shows the shape of the output from each layer..\n",
        "*   Param #: Indicates the number of parameters (weights and biases) in each layer.\n",
        "*   Total Params: Total number of trainable parameters in the model.\n",
        "\n"
      ]
    },
    {
      "cell_type": "code",
      "execution_count": null,
      "metadata": {
        "id": "dmvJaKH4No-v"
      },
      "outputs": [],
      "source": [
        "# Step 19.1: Compile the Neural Network Model\n",
        "\n",
        "# Compile the model with the following configurations:\n",
        "# - Optimizer: Adam optimizer is efficient and widely used for training deep learning models.\n",
        "# - Loss Function: Binary Crossentropy is suitable for binary classification tasks.\n",
        "# - Metrics: Monitor 'accuracy' to evaluate the performance of the model.\n",
        "\n",
        "nn.compile(optimizer='adam',\n",
        "           loss='binary_crossentropy',\n",
        "           metrics=['accuracy'])\n",
        "\n",
        "# Explanation:\n",
        "# - `optimizer='adam'`: Adam optimizer adjusts the learning rate during training for efficient convergence.\n",
        "# - `loss='binary_crossentropy'`: Measures the performance of the model where the output is a probability value between 0 and 1.\n",
        "# - `metrics=['accuracy']`: Tracks the accuracy of the model during training and evaluation.\n"
      ]
    },
    {
      "cell_type": "code",
      "source": [
        "# Step 19.2: Create a  Callback to Save Weights Every Five Epochs\n",
        "class SaveEveryNEpochs(Callback):\n",
        "    def __init__(self, save_freq, filepath):\n",
        "        super(SaveEveryNEpochs, self).__init__()\n",
        "        self.save_freq = save_freq\n",
        "        self.filepath = filepath\n",
        "\n",
        "    def on_epoch_end(self, epoch, logs=None):\n",
        "        # Save the model every 'save_freq' epochs\n",
        "        if (epoch + 1) % self.save_freq == 0:\n",
        "            self.model.save_weights(self.filepath.format(epoch=epoch + 1))\n",
        "            print(f'\\nSaved weights at epoch {epoch + 1}')\n",
        "\n",
        "# Initialize the custom callback to save weights every five epochs\n",
        "checkpoint_callback = SaveEveryNEpochs(\n",
        "    save_freq=5,  # Save every 5 epochs\n",
        "    filepath='weights_epoch_{epoch:02d}.weights.h5'  # Filepath must end with '.weights.h5'\n",
        ")\n"
      ],
      "metadata": {
        "id": "267Xo0DhOuRg"
      },
      "execution_count": null,
      "outputs": []
    },
    {
      "cell_type": "code",
      "execution_count": null,
      "metadata": {
        "colab": {
          "base_uri": "https://localhost:8080/"
        },
        "id": "Wvc0FKFhKf_L",
        "outputId": "15bf093c-4bf7-47c4-ab15-3f5413159bc7"
      },
      "outputs": [
        {
          "output_type": "stream",
          "name": "stdout",
          "text": [
            "Epoch 1/100\n",
            "\u001b[1m549/549\u001b[0m \u001b[32m━━━━━━━━━━━━━━━━━━━━\u001b[0m\u001b[37m\u001b[0m \u001b[1m10s\u001b[0m 7ms/step - accuracy: 0.6918 - loss: 0.5956 - val_accuracy: 0.7232 - val_loss: 0.5629\n",
            "Epoch 2/100\n",
            "\u001b[1m549/549\u001b[0m \u001b[32m━━━━━━━━━━━━━━━━━━━━\u001b[0m\u001b[37m\u001b[0m \u001b[1m2s\u001b[0m 2ms/step - accuracy: 0.7332 - loss: 0.5490 - val_accuracy: 0.7233 - val_loss: 0.5611\n",
            "Epoch 3/100\n",
            "\u001b[1m549/549\u001b[0m \u001b[32m━━━━━━━━━━━━━━━━━━━━\u001b[0m\u001b[37m\u001b[0m \u001b[1m1s\u001b[0m 2ms/step - accuracy: 0.7289 - loss: 0.5526 - val_accuracy: 0.7255 - val_loss: 0.5584\n",
            "Epoch 4/100\n",
            "\u001b[1m549/549\u001b[0m \u001b[32m━━━━━━━━━━━━━━━━━━━━\u001b[0m\u001b[37m\u001b[0m \u001b[1m2s\u001b[0m 3ms/step - accuracy: 0.7329 - loss: 0.5444 - val_accuracy: 0.7222 - val_loss: 0.5600\n",
            "Epoch 5/100\n",
            "\u001b[1m527/549\u001b[0m \u001b[32m━━━━━━━━━━━━━━━━━━━\u001b[0m\u001b[37m━\u001b[0m \u001b[1m0s\u001b[0m 1ms/step - accuracy: 0.7294 - loss: 0.5517\n",
            "Saved weights at epoch 5\n",
            "\u001b[1m549/549\u001b[0m \u001b[32m━━━━━━━━━━━━━━━━━━━━\u001b[0m\u001b[37m\u001b[0m \u001b[1m2s\u001b[0m 2ms/step - accuracy: 0.7295 - loss: 0.5516 - val_accuracy: 0.7258 - val_loss: 0.5563\n",
            "Epoch 6/100\n",
            "\u001b[1m549/549\u001b[0m \u001b[32m━━━━━━━━━━━━━━━━━━━━\u001b[0m\u001b[37m\u001b[0m \u001b[1m1s\u001b[0m 2ms/step - accuracy: 0.7289 - loss: 0.5486 - val_accuracy: 0.7283 - val_loss: 0.5581\n",
            "Epoch 7/100\n",
            "\u001b[1m549/549\u001b[0m \u001b[32m━━━━━━━━━━━━━━━━━━━━\u001b[0m\u001b[37m\u001b[0m \u001b[1m1s\u001b[0m 2ms/step - accuracy: 0.7237 - loss: 0.5577 - val_accuracy: 0.7223 - val_loss: 0.5572\n",
            "Epoch 8/100\n",
            "\u001b[1m549/549\u001b[0m \u001b[32m━━━━━━━━━━━━━━━━━━━━\u001b[0m\u001b[37m\u001b[0m \u001b[1m1s\u001b[0m 2ms/step - accuracy: 0.7343 - loss: 0.5428 - val_accuracy: 0.7292 - val_loss: 0.5569\n",
            "Epoch 9/100\n",
            "\u001b[1m549/549\u001b[0m \u001b[32m━━━━━━━━━━━━━━━━━━━━\u001b[0m\u001b[37m\u001b[0m \u001b[1m1s\u001b[0m 2ms/step - accuracy: 0.7357 - loss: 0.5430 - val_accuracy: 0.7248 - val_loss: 0.5571\n",
            "Epoch 10/100\n",
            "\u001b[1m520/549\u001b[0m \u001b[32m━━━━━━━━━━━━━━━━━━\u001b[0m\u001b[37m━━\u001b[0m \u001b[1m0s\u001b[0m 1ms/step - accuracy: 0.7355 - loss: 0.5428\n",
            "Saved weights at epoch 10\n",
            "\u001b[1m549/549\u001b[0m \u001b[32m━━━━━━━━━━━━━━━━━━━━\u001b[0m\u001b[37m\u001b[0m \u001b[1m1s\u001b[0m 2ms/step - accuracy: 0.7355 - loss: 0.5429 - val_accuracy: 0.7303 - val_loss: 0.5577\n",
            "Epoch 11/100\n",
            "\u001b[1m549/549\u001b[0m \u001b[32m━━━━━━━━━━━━━━━━━━━━\u001b[0m\u001b[37m\u001b[0m \u001b[1m1s\u001b[0m 2ms/step - accuracy: 0.7347 - loss: 0.5439 - val_accuracy: 0.7273 - val_loss: 0.5551\n",
            "Epoch 12/100\n",
            "\u001b[1m549/549\u001b[0m \u001b[32m━━━━━━━━━━━━━━━━━━━━\u001b[0m\u001b[37m\u001b[0m \u001b[1m1s\u001b[0m 2ms/step - accuracy: 0.7396 - loss: 0.5379 - val_accuracy: 0.7265 - val_loss: 0.5565\n",
            "Epoch 13/100\n",
            "\u001b[1m549/549\u001b[0m \u001b[32m━━━━━━━━━━━━━━━━━━━━\u001b[0m\u001b[37m\u001b[0m \u001b[1m1s\u001b[0m 2ms/step - accuracy: 0.7352 - loss: 0.5415 - val_accuracy: 0.7280 - val_loss: 0.5572\n",
            "Epoch 14/100\n",
            "\u001b[1m549/549\u001b[0m \u001b[32m━━━━━━━━━━━━━━━━━━━━\u001b[0m\u001b[37m\u001b[0m \u001b[1m2s\u001b[0m 3ms/step - accuracy: 0.7372 - loss: 0.5425 - val_accuracy: 0.7232 - val_loss: 0.5576\n",
            "Epoch 15/100\n",
            "\u001b[1m549/549\u001b[0m \u001b[32m━━━━━━━━━━━━━━━━━━━━\u001b[0m\u001b[37m\u001b[0m \u001b[1m0s\u001b[0m 1ms/step - accuracy: 0.7367 - loss: 0.5413\n",
            "Saved weights at epoch 15\n",
            "\u001b[1m549/549\u001b[0m \u001b[32m━━━━━━━━━━━━━━━━━━━━\u001b[0m\u001b[37m\u001b[0m \u001b[1m2s\u001b[0m 2ms/step - accuracy: 0.7367 - loss: 0.5413 - val_accuracy: 0.7273 - val_loss: 0.5562\n",
            "Epoch 16/100\n",
            "\u001b[1m549/549\u001b[0m \u001b[32m━━━━━━━━━━━━━━━━━━━━\u001b[0m\u001b[37m\u001b[0m \u001b[1m1s\u001b[0m 2ms/step - accuracy: 0.7359 - loss: 0.5430 - val_accuracy: 0.7245 - val_loss: 0.5579\n",
            "Epoch 17/100\n",
            "\u001b[1m549/549\u001b[0m \u001b[32m━━━━━━━━━━━━━━━━━━━━\u001b[0m\u001b[37m\u001b[0m \u001b[1m1s\u001b[0m 2ms/step - accuracy: 0.7362 - loss: 0.5435 - val_accuracy: 0.7226 - val_loss: 0.5574\n",
            "Epoch 18/100\n",
            "\u001b[1m549/549\u001b[0m \u001b[32m━━━━━━━━━━━━━━━━━━━━\u001b[0m\u001b[37m\u001b[0m \u001b[1m1s\u001b[0m 2ms/step - accuracy: 0.7403 - loss: 0.5388 - val_accuracy: 0.7286 - val_loss: 0.5574\n",
            "Epoch 19/100\n",
            "\u001b[1m549/549\u001b[0m \u001b[32m━━━━━━━━━━━━━━━━━━━━\u001b[0m\u001b[37m\u001b[0m \u001b[1m1s\u001b[0m 2ms/step - accuracy: 0.7349 - loss: 0.5422 - val_accuracy: 0.7276 - val_loss: 0.5558\n",
            "Epoch 20/100\n",
            "\u001b[1m527/549\u001b[0m \u001b[32m━━━━━━━━━━━━━━━━━━━\u001b[0m\u001b[37m━\u001b[0m \u001b[1m0s\u001b[0m 1ms/step - accuracy: 0.7325 - loss: 0.5456\n",
            "Saved weights at epoch 20\n",
            "\u001b[1m549/549\u001b[0m \u001b[32m━━━━━━━━━━━━━━━━━━━━\u001b[0m\u001b[37m\u001b[0m \u001b[1m1s\u001b[0m 2ms/step - accuracy: 0.7326 - loss: 0.5455 - val_accuracy: 0.7274 - val_loss: 0.5594\n",
            "Epoch 21/100\n",
            "\u001b[1m549/549\u001b[0m \u001b[32m━━━━━━━━━━━━━━━━━━━━\u001b[0m\u001b[37m\u001b[0m \u001b[1m1s\u001b[0m 2ms/step - accuracy: 0.7337 - loss: 0.5424 - val_accuracy: 0.7276 - val_loss: 0.5564\n",
            "Epoch 22/100\n",
            "\u001b[1m549/549\u001b[0m \u001b[32m━━━━━━━━━━━━━━━━━━━━\u001b[0m\u001b[37m\u001b[0m \u001b[1m1s\u001b[0m 2ms/step - accuracy: 0.7405 - loss: 0.5376 - val_accuracy: 0.7265 - val_loss: 0.5569\n",
            "Epoch 23/100\n",
            "\u001b[1m549/549\u001b[0m \u001b[32m━━━━━━━━━━━━━━━━━━━━\u001b[0m\u001b[37m\u001b[0m \u001b[1m2s\u001b[0m 3ms/step - accuracy: 0.7356 - loss: 0.5455 - val_accuracy: 0.7294 - val_loss: 0.5569\n",
            "Epoch 24/100\n",
            "\u001b[1m549/549\u001b[0m \u001b[32m━━━━━━━━━━━━━━━━━━━━\u001b[0m\u001b[37m\u001b[0m \u001b[1m2s\u001b[0m 2ms/step - accuracy: 0.7408 - loss: 0.5376 - val_accuracy: 0.7292 - val_loss: 0.5548\n",
            "Epoch 25/100\n",
            "\u001b[1m515/549\u001b[0m \u001b[32m━━━━━━━━━━━━━━━━━━\u001b[0m\u001b[37m━━\u001b[0m \u001b[1m0s\u001b[0m 1ms/step - accuracy: 0.7398 - loss: 0.5389\n",
            "Saved weights at epoch 25\n",
            "\u001b[1m549/549\u001b[0m \u001b[32m━━━━━━━━━━━━━━━━━━━━\u001b[0m\u001b[37m\u001b[0m \u001b[1m1s\u001b[0m 2ms/step - accuracy: 0.7396 - loss: 0.5390 - val_accuracy: 0.7278 - val_loss: 0.5565\n",
            "Epoch 26/100\n",
            "\u001b[1m549/549\u001b[0m \u001b[32m━━━━━━━━━━━━━━━━━━━━\u001b[0m\u001b[37m\u001b[0m \u001b[1m1s\u001b[0m 2ms/step - accuracy: 0.7304 - loss: 0.5429 - val_accuracy: 0.7276 - val_loss: 0.5573\n",
            "Epoch 27/100\n",
            "\u001b[1m549/549\u001b[0m \u001b[32m━━━━━━━━━━━━━━━━━━━━\u001b[0m\u001b[37m\u001b[0m \u001b[1m1s\u001b[0m 2ms/step - accuracy: 0.7322 - loss: 0.5453 - val_accuracy: 0.7270 - val_loss: 0.5570\n",
            "Epoch 28/100\n",
            "\u001b[1m549/549\u001b[0m \u001b[32m━━━━━━━━━━━━━━━━━━━━\u001b[0m\u001b[37m\u001b[0m \u001b[1m1s\u001b[0m 2ms/step - accuracy: 0.7392 - loss: 0.5355 - val_accuracy: 0.7290 - val_loss: 0.5549\n",
            "Epoch 29/100\n",
            "\u001b[1m549/549\u001b[0m \u001b[32m━━━━━━━━━━━━━━━━━━━━\u001b[0m\u001b[37m\u001b[0m \u001b[1m1s\u001b[0m 2ms/step - accuracy: 0.7371 - loss: 0.5379 - val_accuracy: 0.7211 - val_loss: 0.5621\n",
            "Epoch 30/100\n",
            "\u001b[1m524/549\u001b[0m \u001b[32m━━━━━━━━━━━━━━━━━━━\u001b[0m\u001b[37m━\u001b[0m \u001b[1m0s\u001b[0m 1ms/step - accuracy: 0.7436 - loss: 0.5366\n",
            "Saved weights at epoch 30\n",
            "\u001b[1m549/549\u001b[0m \u001b[32m━━━━━━━━━━━━━━━━━━━━\u001b[0m\u001b[37m\u001b[0m \u001b[1m1s\u001b[0m 2ms/step - accuracy: 0.7434 - loss: 0.5368 - val_accuracy: 0.7278 - val_loss: 0.5555\n",
            "Epoch 31/100\n",
            "\u001b[1m549/549\u001b[0m \u001b[32m━━━━━━━━━━━━━━━━━━━━\u001b[0m\u001b[37m\u001b[0m \u001b[1m1s\u001b[0m 2ms/step - accuracy: 0.7390 - loss: 0.5394 - val_accuracy: 0.7255 - val_loss: 0.5550\n",
            "Epoch 32/100\n",
            "\u001b[1m549/549\u001b[0m \u001b[32m━━━━━━━━━━━━━━━━━━━━\u001b[0m\u001b[37m\u001b[0m \u001b[1m2s\u001b[0m 3ms/step - accuracy: 0.7393 - loss: 0.5348 - val_accuracy: 0.7287 - val_loss: 0.5552\n",
            "Epoch 33/100\n",
            "\u001b[1m549/549\u001b[0m \u001b[32m━━━━━━━━━━━━━━━━━━━━\u001b[0m\u001b[37m\u001b[0m \u001b[1m2s\u001b[0m 2ms/step - accuracy: 0.7393 - loss: 0.5363 - val_accuracy: 0.7268 - val_loss: 0.5588\n",
            "Epoch 34/100\n",
            "\u001b[1m549/549\u001b[0m \u001b[32m━━━━━━━━━━━━━━━━━━━━\u001b[0m\u001b[37m\u001b[0m \u001b[1m1s\u001b[0m 2ms/step - accuracy: 0.7364 - loss: 0.5398 - val_accuracy: 0.7249 - val_loss: 0.5572\n",
            "Epoch 35/100\n",
            "\u001b[1m523/549\u001b[0m \u001b[32m━━━━━━━━━━━━━━━━━━━\u001b[0m\u001b[37m━\u001b[0m \u001b[1m0s\u001b[0m 1ms/step - accuracy: 0.7330 - loss: 0.5422\n",
            "Saved weights at epoch 35\n",
            "\u001b[1m549/549\u001b[0m \u001b[32m━━━━━━━━━━━━━━━━━━━━\u001b[0m\u001b[37m\u001b[0m \u001b[1m1s\u001b[0m 2ms/step - accuracy: 0.7332 - loss: 0.5421 - val_accuracy: 0.7267 - val_loss: 0.5572\n",
            "Epoch 36/100\n",
            "\u001b[1m549/549\u001b[0m \u001b[32m━━━━━━━━━━━━━━━━━━━━\u001b[0m\u001b[37m\u001b[0m \u001b[1m1s\u001b[0m 2ms/step - accuracy: 0.7386 - loss: 0.5414 - val_accuracy: 0.7232 - val_loss: 0.5574\n",
            "Epoch 37/100\n",
            "\u001b[1m549/549\u001b[0m \u001b[32m━━━━━━━━━━━━━━━━━━━━\u001b[0m\u001b[37m\u001b[0m \u001b[1m1s\u001b[0m 2ms/step - accuracy: 0.7360 - loss: 0.5400 - val_accuracy: 0.7296 - val_loss: 0.5574\n",
            "Epoch 38/100\n",
            "\u001b[1m549/549\u001b[0m \u001b[32m━━━━━━━━━━━━━━━━━━━━\u001b[0m\u001b[37m\u001b[0m \u001b[1m1s\u001b[0m 2ms/step - accuracy: 0.7406 - loss: 0.5350 - val_accuracy: 0.7284 - val_loss: 0.5579\n",
            "Epoch 39/100\n",
            "\u001b[1m549/549\u001b[0m \u001b[32m━━━━━━━━━━━━━━━━━━━━\u001b[0m\u001b[37m\u001b[0m \u001b[1m1s\u001b[0m 2ms/step - accuracy: 0.7333 - loss: 0.5441 - val_accuracy: 0.7273 - val_loss: 0.5580\n",
            "Epoch 40/100\n",
            "\u001b[1m535/549\u001b[0m \u001b[32m━━━━━━━━━━━━━━━━━━━\u001b[0m\u001b[37m━\u001b[0m \u001b[1m0s\u001b[0m 1ms/step - accuracy: 0.7377 - loss: 0.5360\n",
            "Saved weights at epoch 40\n",
            "\u001b[1m549/549\u001b[0m \u001b[32m━━━━━━━━━━━━━━━━━━━━\u001b[0m\u001b[37m\u001b[0m \u001b[1m1s\u001b[0m 2ms/step - accuracy: 0.7377 - loss: 0.5361 - val_accuracy: 0.7252 - val_loss: 0.5593\n",
            "Epoch 41/100\n",
            "\u001b[1m549/549\u001b[0m \u001b[32m━━━━━━━━━━━━━━━━━━━━\u001b[0m\u001b[37m\u001b[0m \u001b[1m2s\u001b[0m 3ms/step - accuracy: 0.7415 - loss: 0.5361 - val_accuracy: 0.7289 - val_loss: 0.5578\n",
            "Epoch 42/100\n",
            "\u001b[1m549/549\u001b[0m \u001b[32m━━━━━━━━━━━━━━━━━━━━\u001b[0m\u001b[37m\u001b[0m \u001b[1m2s\u001b[0m 3ms/step - accuracy: 0.7336 - loss: 0.5408 - val_accuracy: 0.7241 - val_loss: 0.5582\n",
            "Epoch 43/100\n",
            "\u001b[1m549/549\u001b[0m \u001b[32m━━━━━━━━━━━━━━━━━━━━\u001b[0m\u001b[37m\u001b[0m \u001b[1m2s\u001b[0m 2ms/step - accuracy: 0.7433 - loss: 0.5332 - val_accuracy: 0.7284 - val_loss: 0.5580\n",
            "Epoch 44/100\n",
            "\u001b[1m549/549\u001b[0m \u001b[32m━━━━━━━━━━━━━━━━━━━━\u001b[0m\u001b[37m\u001b[0m \u001b[1m1s\u001b[0m 2ms/step - accuracy: 0.7370 - loss: 0.5398 - val_accuracy: 0.7229 - val_loss: 0.5583\n",
            "Epoch 45/100\n",
            "\u001b[1m514/549\u001b[0m \u001b[32m━━━━━━━━━━━━━━━━━━\u001b[0m\u001b[37m━━\u001b[0m \u001b[1m0s\u001b[0m 1ms/step - accuracy: 0.7372 - loss: 0.5361\n",
            "Saved weights at epoch 45\n",
            "\u001b[1m549/549\u001b[0m \u001b[32m━━━━━━━━━━━━━━━━━━━━\u001b[0m\u001b[37m\u001b[0m \u001b[1m1s\u001b[0m 2ms/step - accuracy: 0.7373 - loss: 0.5362 - val_accuracy: 0.7271 - val_loss: 0.5594\n",
            "Epoch 46/100\n",
            "\u001b[1m549/549\u001b[0m \u001b[32m━━━━━━━━━━━━━━━━━━━━\u001b[0m\u001b[37m\u001b[0m \u001b[1m1s\u001b[0m 2ms/step - accuracy: 0.7355 - loss: 0.5382 - val_accuracy: 0.7303 - val_loss: 0.5588\n",
            "Epoch 47/100\n",
            "\u001b[1m549/549\u001b[0m \u001b[32m━━━━━━━━━━━━━━━━━━━━\u001b[0m\u001b[37m\u001b[0m \u001b[1m1s\u001b[0m 2ms/step - accuracy: 0.7397 - loss: 0.5375 - val_accuracy: 0.7249 - val_loss: 0.5577\n",
            "Epoch 48/100\n",
            "\u001b[1m549/549\u001b[0m \u001b[32m━━━━━━━━━━━━━━━━━━━━\u001b[0m\u001b[37m\u001b[0m \u001b[1m1s\u001b[0m 2ms/step - accuracy: 0.7361 - loss: 0.5415 - val_accuracy: 0.7264 - val_loss: 0.5593\n",
            "Epoch 49/100\n",
            "\u001b[1m549/549\u001b[0m \u001b[32m━━━━━━━━━━━━━━━━━━━━\u001b[0m\u001b[37m\u001b[0m \u001b[1m1s\u001b[0m 2ms/step - accuracy: 0.7442 - loss: 0.5311 - val_accuracy: 0.7300 - val_loss: 0.5589\n",
            "Epoch 50/100\n",
            "\u001b[1m543/549\u001b[0m \u001b[32m━━━━━━━━━━━━━━━━━━━\u001b[0m\u001b[37m━\u001b[0m \u001b[1m0s\u001b[0m 2ms/step - accuracy: 0.7424 - loss: 0.5354\n",
            "Saved weights at epoch 50\n",
            "\u001b[1m549/549\u001b[0m \u001b[32m━━━━━━━━━━━━━━━━━━━━\u001b[0m\u001b[37m\u001b[0m \u001b[1m1s\u001b[0m 2ms/step - accuracy: 0.7424 - loss: 0.5355 - val_accuracy: 0.7293 - val_loss: 0.5573\n",
            "Epoch 51/100\n",
            "\u001b[1m549/549\u001b[0m \u001b[32m━━━━━━━━━━━━━━━━━━━━\u001b[0m\u001b[37m\u001b[0m \u001b[1m3s\u001b[0m 2ms/step - accuracy: 0.7394 - loss: 0.5359 - val_accuracy: 0.7306 - val_loss: 0.5591\n",
            "Epoch 52/100\n",
            "\u001b[1m549/549\u001b[0m \u001b[32m━━━━━━━━━━━━━━━━━━━━\u001b[0m\u001b[37m\u001b[0m \u001b[1m1s\u001b[0m 2ms/step - accuracy: 0.7379 - loss: 0.5388 - val_accuracy: 0.7299 - val_loss: 0.5574\n",
            "Epoch 53/100\n",
            "\u001b[1m549/549\u001b[0m \u001b[32m━━━━━━━━━━━━━━━━━━━━\u001b[0m\u001b[37m\u001b[0m \u001b[1m1s\u001b[0m 2ms/step - accuracy: 0.7364 - loss: 0.5394 - val_accuracy: 0.7261 - val_loss: 0.5579\n",
            "Epoch 54/100\n",
            "\u001b[1m549/549\u001b[0m \u001b[32m━━━━━━━━━━━━━━━━━━━━\u001b[0m\u001b[37m\u001b[0m \u001b[1m1s\u001b[0m 2ms/step - accuracy: 0.7409 - loss: 0.5324 - val_accuracy: 0.7270 - val_loss: 0.5606\n",
            "Epoch 55/100\n",
            "\u001b[1m540/549\u001b[0m \u001b[32m━━━━━━━━━━━━━━━━━━━\u001b[0m\u001b[37m━\u001b[0m \u001b[1m0s\u001b[0m 1ms/step - accuracy: 0.7407 - loss: 0.5349\n",
            "Saved weights at epoch 55\n",
            "\u001b[1m549/549\u001b[0m \u001b[32m━━━━━━━━━━━━━━━━━━━━\u001b[0m\u001b[37m\u001b[0m \u001b[1m1s\u001b[0m 2ms/step - accuracy: 0.7407 - loss: 0.5349 - val_accuracy: 0.7249 - val_loss: 0.5585\n",
            "Epoch 56/100\n",
            "\u001b[1m549/549\u001b[0m \u001b[32m━━━━━━━━━━━━━━━━━━━━\u001b[0m\u001b[37m\u001b[0m \u001b[1m1s\u001b[0m 2ms/step - accuracy: 0.7408 - loss: 0.5352 - val_accuracy: 0.7267 - val_loss: 0.5622\n",
            "Epoch 57/100\n",
            "\u001b[1m549/549\u001b[0m \u001b[32m━━━━━━━━━━━━━━━━━━━━\u001b[0m\u001b[37m\u001b[0m \u001b[1m1s\u001b[0m 2ms/step - accuracy: 0.7403 - loss: 0.5349 - val_accuracy: 0.7265 - val_loss: 0.5572\n",
            "Epoch 58/100\n",
            "\u001b[1m549/549\u001b[0m \u001b[32m━━━━━━━━━━━━━━━━━━━━\u001b[0m\u001b[37m\u001b[0m \u001b[1m1s\u001b[0m 2ms/step - accuracy: 0.7368 - loss: 0.5379 - val_accuracy: 0.7286 - val_loss: 0.5574\n",
            "Epoch 59/100\n",
            "\u001b[1m549/549\u001b[0m \u001b[32m━━━━━━━━━━━━━━━━━━━━\u001b[0m\u001b[37m\u001b[0m \u001b[1m1s\u001b[0m 2ms/step - accuracy: 0.7448 - loss: 0.5349 - val_accuracy: 0.7265 - val_loss: 0.5607\n",
            "Epoch 60/100\n",
            "\u001b[1m532/549\u001b[0m \u001b[32m━━━━━━━━━━━━━━━━━━━\u001b[0m\u001b[37m━\u001b[0m \u001b[1m0s\u001b[0m 2ms/step - accuracy: 0.7365 - loss: 0.5405\n",
            "Saved weights at epoch 60\n",
            "\u001b[1m549/549\u001b[0m \u001b[32m━━━━━━━━━━━━━━━━━━━━\u001b[0m\u001b[37m\u001b[0m \u001b[1m2s\u001b[0m 2ms/step - accuracy: 0.7366 - loss: 0.5404 - val_accuracy: 0.7251 - val_loss: 0.5624\n",
            "Epoch 61/100\n",
            "\u001b[1m549/549\u001b[0m \u001b[32m━━━━━━━━━━━━━━━━━━━━\u001b[0m\u001b[37m\u001b[0m \u001b[1m2s\u001b[0m 2ms/step - accuracy: 0.7396 - loss: 0.5387 - val_accuracy: 0.7271 - val_loss: 0.5597\n",
            "Epoch 62/100\n",
            "\u001b[1m549/549\u001b[0m \u001b[32m━━━━━━━━━━━━━━━━━━━━\u001b[0m\u001b[37m\u001b[0m \u001b[1m1s\u001b[0m 2ms/step - accuracy: 0.7387 - loss: 0.5371 - val_accuracy: 0.7283 - val_loss: 0.5610\n",
            "Epoch 63/100\n",
            "\u001b[1m549/549\u001b[0m \u001b[32m━━━━━━━━━━━━━━━━━━━━\u001b[0m\u001b[37m\u001b[0m \u001b[1m1s\u001b[0m 2ms/step - accuracy: 0.7419 - loss: 0.5345 - val_accuracy: 0.7259 - val_loss: 0.5606\n",
            "Epoch 64/100\n",
            "\u001b[1m549/549\u001b[0m \u001b[32m━━━━━━━━━━━━━━━━━━━━\u001b[0m\u001b[37m\u001b[0m \u001b[1m1s\u001b[0m 2ms/step - accuracy: 0.7403 - loss: 0.5344 - val_accuracy: 0.7278 - val_loss: 0.5592\n",
            "Epoch 65/100\n",
            "\u001b[1m549/549\u001b[0m \u001b[32m━━━━━━━━━━━━━━━━━━━━\u001b[0m\u001b[37m\u001b[0m \u001b[1m0s\u001b[0m 1ms/step - accuracy: 0.7373 - loss: 0.5376\n",
            "Saved weights at epoch 65\n",
            "\u001b[1m549/549\u001b[0m \u001b[32m━━━━━━━━━━━━━━━━━━━━\u001b[0m\u001b[37m\u001b[0m \u001b[1m1s\u001b[0m 2ms/step - accuracy: 0.7373 - loss: 0.5376 - val_accuracy: 0.7276 - val_loss: 0.5594\n",
            "Epoch 66/100\n",
            "\u001b[1m549/549\u001b[0m \u001b[32m━━━━━━━━━━━━━━━━━━━━\u001b[0m\u001b[37m\u001b[0m \u001b[1m1s\u001b[0m 2ms/step - accuracy: 0.7413 - loss: 0.5353 - val_accuracy: 0.7277 - val_loss: 0.5632\n",
            "Epoch 67/100\n",
            "\u001b[1m549/549\u001b[0m \u001b[32m━━━━━━━━━━━━━━━━━━━━\u001b[0m\u001b[37m\u001b[0m \u001b[1m2s\u001b[0m 2ms/step - accuracy: 0.7420 - loss: 0.5344 - val_accuracy: 0.7232 - val_loss: 0.5610\n",
            "Epoch 68/100\n",
            "\u001b[1m549/549\u001b[0m \u001b[32m━━━━━━━━━━━━━━━━━━━━\u001b[0m\u001b[37m\u001b[0m \u001b[1m1s\u001b[0m 2ms/step - accuracy: 0.7384 - loss: 0.5353 - val_accuracy: 0.7271 - val_loss: 0.5602\n",
            "Epoch 69/100\n",
            "\u001b[1m549/549\u001b[0m \u001b[32m━━━━━━━━━━━━━━━━━━━━\u001b[0m\u001b[37m\u001b[0m \u001b[1m2s\u001b[0m 3ms/step - accuracy: 0.7434 - loss: 0.5323 - val_accuracy: 0.7264 - val_loss: 0.5621\n",
            "Epoch 70/100\n",
            "\u001b[1m532/549\u001b[0m \u001b[32m━━━━━━━━━━━━━━━━━━━\u001b[0m\u001b[37m━\u001b[0m \u001b[1m0s\u001b[0m 1ms/step - accuracy: 0.7364 - loss: 0.5360\n",
            "Saved weights at epoch 70\n",
            "\u001b[1m549/549\u001b[0m \u001b[32m━━━━━━━━━━━━━━━━━━━━\u001b[0m\u001b[37m\u001b[0m \u001b[1m2s\u001b[0m 2ms/step - accuracy: 0.7365 - loss: 0.5360 - val_accuracy: 0.7281 - val_loss: 0.5604\n",
            "Epoch 71/100\n",
            "\u001b[1m549/549\u001b[0m \u001b[32m━━━━━━━━━━━━━━━━━━━━\u001b[0m\u001b[37m\u001b[0m \u001b[1m1s\u001b[0m 2ms/step - accuracy: 0.7387 - loss: 0.5401 - val_accuracy: 0.7278 - val_loss: 0.5621\n",
            "Epoch 72/100\n",
            "\u001b[1m549/549\u001b[0m \u001b[32m━━━━━━━━━━━━━━━━━━━━\u001b[0m\u001b[37m\u001b[0m \u001b[1m1s\u001b[0m 2ms/step - accuracy: 0.7431 - loss: 0.5316 - val_accuracy: 0.7278 - val_loss: 0.5606\n",
            "Epoch 73/100\n",
            "\u001b[1m549/549\u001b[0m \u001b[32m━━━━━━━━━━━━━━━━━━━━\u001b[0m\u001b[37m\u001b[0m \u001b[1m1s\u001b[0m 2ms/step - accuracy: 0.7377 - loss: 0.5384 - val_accuracy: 0.7273 - val_loss: 0.5606\n",
            "Epoch 74/100\n",
            "\u001b[1m549/549\u001b[0m \u001b[32m━━━━━━━━━━━━━━━━━━━━\u001b[0m\u001b[37m\u001b[0m \u001b[1m1s\u001b[0m 2ms/step - accuracy: 0.7444 - loss: 0.5312 - val_accuracy: 0.7274 - val_loss: 0.5612\n",
            "Epoch 75/100\n",
            "\u001b[1m530/549\u001b[0m \u001b[32m━━━━━━━━━━━━━━━━━━━\u001b[0m\u001b[37m━\u001b[0m \u001b[1m0s\u001b[0m 1ms/step - accuracy: 0.7407 - loss: 0.5357\n",
            "Saved weights at epoch 75\n",
            "\u001b[1m549/549\u001b[0m \u001b[32m━━━━━━━━━━━━━━━━━━━━\u001b[0m\u001b[37m\u001b[0m \u001b[1m1s\u001b[0m 2ms/step - accuracy: 0.7407 - loss: 0.5357 - val_accuracy: 0.7274 - val_loss: 0.5615\n",
            "Epoch 76/100\n",
            "\u001b[1m549/549\u001b[0m \u001b[32m━━━━━━━━━━━━━━━━━━━━\u001b[0m\u001b[37m\u001b[0m \u001b[1m1s\u001b[0m 2ms/step - accuracy: 0.7419 - loss: 0.5341 - val_accuracy: 0.7278 - val_loss: 0.5629\n",
            "Epoch 77/100\n",
            "\u001b[1m549/549\u001b[0m \u001b[32m━━━━━━━━━━━━━━━━━━━━\u001b[0m\u001b[37m\u001b[0m \u001b[1m1s\u001b[0m 2ms/step - accuracy: 0.7410 - loss: 0.5348 - val_accuracy: 0.7273 - val_loss: 0.5602\n",
            "Epoch 78/100\n",
            "\u001b[1m549/549\u001b[0m \u001b[32m━━━━━━━━━━━━━━━━━━━━\u001b[0m\u001b[37m\u001b[0m \u001b[1m1s\u001b[0m 2ms/step - accuracy: 0.7392 - loss: 0.5359 - val_accuracy: 0.7245 - val_loss: 0.5630\n",
            "Epoch 79/100\n",
            "\u001b[1m549/549\u001b[0m \u001b[32m━━━━━━━━━━━━━━━━━━━━\u001b[0m\u001b[37m\u001b[0m \u001b[1m2s\u001b[0m 3ms/step - accuracy: 0.7392 - loss: 0.5321 - val_accuracy: 0.7271 - val_loss: 0.5626\n",
            "Epoch 80/100\n",
            "\u001b[1m541/549\u001b[0m \u001b[32m━━━━━━━━━━━━━━━━━━━\u001b[0m\u001b[37m━\u001b[0m \u001b[1m0s\u001b[0m 2ms/step - accuracy: 0.7450 - loss: 0.5294\n",
            "Saved weights at epoch 80\n",
            "\u001b[1m549/549\u001b[0m \u001b[32m━━━━━━━━━━━━━━━━━━━━\u001b[0m\u001b[37m\u001b[0m \u001b[1m2s\u001b[0m 3ms/step - accuracy: 0.7450 - loss: 0.5295 - val_accuracy: 0.7258 - val_loss: 0.5602\n",
            "Epoch 81/100\n",
            "\u001b[1m549/549\u001b[0m \u001b[32m━━━━━━━━━━━━━━━━━━━━\u001b[0m\u001b[37m\u001b[0m \u001b[1m2s\u001b[0m 2ms/step - accuracy: 0.7449 - loss: 0.5299 - val_accuracy: 0.7267 - val_loss: 0.5623\n",
            "Epoch 82/100\n",
            "\u001b[1m549/549\u001b[0m \u001b[32m━━━━━━━━━━━━━━━━━━━━\u001b[0m\u001b[37m\u001b[0m \u001b[1m1s\u001b[0m 2ms/step - accuracy: 0.7396 - loss: 0.5360 - val_accuracy: 0.7273 - val_loss: 0.5610\n",
            "Epoch 83/100\n",
            "\u001b[1m549/549\u001b[0m \u001b[32m━━━━━━━━━━━━━━━━━━━━\u001b[0m\u001b[37m\u001b[0m \u001b[1m1s\u001b[0m 2ms/step - accuracy: 0.7416 - loss: 0.5317 - val_accuracy: 0.7265 - val_loss: 0.5625\n",
            "Epoch 84/100\n",
            "\u001b[1m549/549\u001b[0m \u001b[32m━━━━━━━━━━━━━━━━━━━━\u001b[0m\u001b[37m\u001b[0m \u001b[1m1s\u001b[0m 2ms/step - accuracy: 0.7355 - loss: 0.5387 - val_accuracy: 0.7267 - val_loss: 0.5646\n",
            "Epoch 85/100\n",
            "\u001b[1m519/549\u001b[0m \u001b[32m━━━━━━━━━━━━━━━━━━\u001b[0m\u001b[37m━━\u001b[0m \u001b[1m0s\u001b[0m 1ms/step - accuracy: 0.7418 - loss: 0.5344\n",
            "Saved weights at epoch 85\n",
            "\u001b[1m549/549\u001b[0m \u001b[32m━━━━━━━━━━━━━━━━━━━━\u001b[0m\u001b[37m\u001b[0m \u001b[1m1s\u001b[0m 2ms/step - accuracy: 0.7416 - loss: 0.5345 - val_accuracy: 0.7273 - val_loss: 0.5612\n",
            "Epoch 86/100\n",
            "\u001b[1m549/549\u001b[0m \u001b[32m━━━━━━━━━━━━━━━━━━━━\u001b[0m\u001b[37m\u001b[0m \u001b[1m1s\u001b[0m 2ms/step - accuracy: 0.7433 - loss: 0.5348 - val_accuracy: 0.7261 - val_loss: 0.5609\n",
            "Epoch 87/100\n",
            "\u001b[1m549/549\u001b[0m \u001b[32m━━━━━━━━━━━━━━━━━━━━\u001b[0m\u001b[37m\u001b[0m \u001b[1m1s\u001b[0m 2ms/step - accuracy: 0.7432 - loss: 0.5305 - val_accuracy: 0.7264 - val_loss: 0.5656\n",
            "Epoch 88/100\n",
            "\u001b[1m549/549\u001b[0m \u001b[32m━━━━━━━━━━━━━━━━━━━━\u001b[0m\u001b[37m\u001b[0m \u001b[1m1s\u001b[0m 2ms/step - accuracy: 0.7438 - loss: 0.5312 - val_accuracy: 0.7271 - val_loss: 0.5628\n",
            "Epoch 89/100\n",
            "\u001b[1m549/549\u001b[0m \u001b[32m━━━━━━━━━━━━━━━━━━━━\u001b[0m\u001b[37m\u001b[0m \u001b[1m2s\u001b[0m 3ms/step - accuracy: 0.7427 - loss: 0.5338 - val_accuracy: 0.7274 - val_loss: 0.5633\n",
            "Epoch 90/100\n",
            "\u001b[1m540/549\u001b[0m \u001b[32m━━━━━━━━━━━━━━━━━━━\u001b[0m\u001b[37m━\u001b[0m \u001b[1m0s\u001b[0m 3ms/step - accuracy: 0.7404 - loss: 0.5337\n",
            "Saved weights at epoch 90\n",
            "\u001b[1m549/549\u001b[0m \u001b[32m━━━━━━━━━━━━━━━━━━━━\u001b[0m\u001b[37m\u001b[0m \u001b[1m2s\u001b[0m 3ms/step - accuracy: 0.7404 - loss: 0.5337 - val_accuracy: 0.7280 - val_loss: 0.5630\n",
            "Epoch 91/100\n",
            "\u001b[1m549/549\u001b[0m \u001b[32m━━━━━━━━━━━━━━━━━━━━\u001b[0m\u001b[37m\u001b[0m \u001b[1m2s\u001b[0m 2ms/step - accuracy: 0.7407 - loss: 0.5316 - val_accuracy: 0.7281 - val_loss: 0.5645\n",
            "Epoch 92/100\n",
            "\u001b[1m549/549\u001b[0m \u001b[32m━━━━━━━━━━━━━━━━━━━━\u001b[0m\u001b[37m\u001b[0m \u001b[1m1s\u001b[0m 2ms/step - accuracy: 0.7381 - loss: 0.5363 - val_accuracy: 0.7283 - val_loss: 0.5650\n",
            "Epoch 93/100\n",
            "\u001b[1m549/549\u001b[0m \u001b[32m━━━━━━━━━━━━━━━━━━━━\u001b[0m\u001b[37m\u001b[0m \u001b[1m1s\u001b[0m 2ms/step - accuracy: 0.7415 - loss: 0.5346 - val_accuracy: 0.7230 - val_loss: 0.5642\n",
            "Epoch 94/100\n",
            "\u001b[1m549/549\u001b[0m \u001b[32m━━━━━━━━━━━━━━━━━━━━\u001b[0m\u001b[37m\u001b[0m \u001b[1m1s\u001b[0m 2ms/step - accuracy: 0.7395 - loss: 0.5355 - val_accuracy: 0.7278 - val_loss: 0.5640\n",
            "Epoch 95/100\n",
            "\u001b[1m514/549\u001b[0m \u001b[32m━━━━━━━━━━━━━━━━━━\u001b[0m\u001b[37m━━\u001b[0m \u001b[1m0s\u001b[0m 1ms/step - accuracy: 0.7374 - loss: 0.5392\n",
            "Saved weights at epoch 95\n",
            "\u001b[1m549/549\u001b[0m \u001b[32m━━━━━━━━━━━━━━━━━━━━\u001b[0m\u001b[37m\u001b[0m \u001b[1m1s\u001b[0m 2ms/step - accuracy: 0.7376 - loss: 0.5389 - val_accuracy: 0.7264 - val_loss: 0.5646\n",
            "Epoch 96/100\n",
            "\u001b[1m549/549\u001b[0m \u001b[32m━━━━━━━━━━━━━━━━━━━━\u001b[0m\u001b[37m\u001b[0m \u001b[1m1s\u001b[0m 2ms/step - accuracy: 0.7404 - loss: 0.5344 - val_accuracy: 0.7273 - val_loss: 0.5636\n",
            "Epoch 97/100\n",
            "\u001b[1m549/549\u001b[0m \u001b[32m━━━━━━━━━━━━━━━━━━━━\u001b[0m\u001b[37m\u001b[0m \u001b[1m1s\u001b[0m 2ms/step - accuracy: 0.7389 - loss: 0.5339 - val_accuracy: 0.7280 - val_loss: 0.5655\n",
            "Epoch 98/100\n",
            "\u001b[1m549/549\u001b[0m \u001b[32m━━━━━━━━━━━━━━━━━━━━\u001b[0m\u001b[37m\u001b[0m \u001b[1m1s\u001b[0m 2ms/step - accuracy: 0.7347 - loss: 0.5385 - val_accuracy: 0.7271 - val_loss: 0.5663\n",
            "Epoch 99/100\n",
            "\u001b[1m549/549\u001b[0m \u001b[32m━━━━━━━━━━━━━━━━━━━━\u001b[0m\u001b[37m\u001b[0m \u001b[1m2s\u001b[0m 3ms/step - accuracy: 0.7421 - loss: 0.5330 - val_accuracy: 0.7262 - val_loss: 0.5644\n",
            "Epoch 100/100\n",
            "\u001b[1m529/549\u001b[0m \u001b[32m━━━━━━━━━━━━━━━━━━━\u001b[0m\u001b[37m━\u001b[0m \u001b[1m0s\u001b[0m 1ms/step - accuracy: 0.7384 - loss: 0.5382\n",
            "Saved weights at epoch 100\n",
            "\u001b[1m549/549\u001b[0m \u001b[32m━━━━━━━━━━━━━━━━━━━━\u001b[0m\u001b[37m\u001b[0m \u001b[1m2s\u001b[0m 2ms/step - accuracy: 0.7385 - loss: 0.5380 - val_accuracy: 0.7242 - val_loss: 0.5632\n"
          ]
        }
      ],
      "source": [
        "# Step 19.3:\n",
        "\n",
        "\n",
        "# Train the model using the training data\n",
        "# - X_train_scaled: Preprocessed and scaled training features\n",
        "# - y_train: Training target variable\n",
        "# - epochs: Number of times the entire training dataset is passed through the model\n",
        "# - batch_size: Number of samples per gradient update\n",
        "# - validation_data: Tuple (X_test_scaled, y_test) to evaluate the loss and any model metrics at the end of each epoch\n",
        "# - callbacks: List of callback instances to apply during training (e.g., checkpoint_callback)\n",
        "\n",
        "history = nn.fit(X_train_scaled, y_train,\n",
        "                epochs=epochs,\n",
        "                batch_size=batch_size,\n",
        "                validation_data=(X_test_scaled, y_test),\n",
        "                callbacks=[checkpoint_callback],\n",
        "                verbose=1)  # Verbosity mode, 1 = progress bar\n",
        "\n",
        "# Explanation:\n",
        "# - `epochs=100`: The model will iterate 50 times over the entire training dataset.\n",
        "# - `batch_size=50`: The model updates its weights after every 32 samples.\n",
        "# - `validation_data=(X_test_scaled, y_test)`: The model will evaluate its performance on the testing data at the end of each epoch.\n",
        "# - `callbacks=[checkpoint_callback]`: Incorporates the custom callback to save model weights every five epochs.\n",
        "# - `verbose=1`: Displays a progress bar and training metrics during training."
      ]
    },
    {
      "cell_type": "code",
      "execution_count": null,
      "metadata": {
        "id": "agmZp-uq7njx"
      },
      "outputs": [],
      "source": []
    },
    {
      "cell_type": "code",
      "execution_count": null,
      "metadata": {
        "colab": {
          "base_uri": "https://localhost:8080/"
        },
        "id": "vQwUOHY_K6Lb",
        "outputId": "bc387c74-d1a1-40cc-f8c0-ee7781b436bd"
      },
      "outputs": [
        {
          "output_type": "stream",
          "name": "stdout",
          "text": [
            "\n",
            "Test Loss: 0.5632\n",
            "Test Accuracy: 0.7242\n"
          ]
        }
      ],
      "source": [
        "# Step 19.4: Evaluate the Neural Network Model on Test Data\n",
        "\n",
        "# Evaluate the trained model using the testing data\n",
        "# - X_test_scaled: Preprocessed and scaled testing features\n",
        "# - y_test: Testing target variable\n",
        "\n",
        "test_loss, test_accuracy = nn.evaluate(X_test_scaled, y_test, verbose=0)\n",
        "\n",
        "# Print the evaluation results\n",
        "print(f\"\\nTest Loss: {test_loss:.4f}\")\n",
        "print(f\"Test Accuracy: {test_accuracy:.4f}\")\n",
        "\n",
        "# Explanation:\n",
        "# - `nn.evaluate()`: Computes the loss and specified metrics for the model on the provided data.\n",
        "# - `verbose=0`: Suppresses the progress bar during evaluation.\n",
        "# - `test_loss`: The loss value on the testing data.\n",
        "# - `test_accuracy`: The accuracy of the model on the testing data.\n"
      ]
    },
    {
      "cell_type": "code",
      "execution_count": null,
      "metadata": {
        "id": "VKdo_snX7njx"
      },
      "outputs": [],
      "source": []
    },
    {
      "cell_type": "code",
      "execution_count": null,
      "metadata": {
        "colab": {
          "base_uri": "https://localhost:8080/"
        },
        "id": "S7fnahnfLRVu",
        "outputId": "73574286-fd1e-487e-bae7-072108041b7d"
      },
      "outputs": [
        {
          "output_type": "stream",
          "name": "stderr",
          "text": [
            "WARNING:absl:You are saving your model as an HDF5 file via `model.save()` or `keras.saving.save_model(model)`. This file format is considered legacy. We recommend using instead the native Keras format, e.g. `model.save('my_model.keras')` or `keras.saving.save_model(model, 'my_model.keras')`. \n"
          ]
        },
        {
          "output_type": "stream",
          "name": "stdout",
          "text": [
            "\n",
            "Model has been saved to AlphabetSoupCharity.h5\n"
          ]
        }
      ],
      "source": [
        "# Step 19.5: Save the Trained Model to an HDF5 File\n",
        "\n",
        "# Define the filename for the saved model\n",
        "model_filename = 'AlphabetSoupCharity.h5'\n",
        "\n",
        "# Save the entire model to the HDF5 file\n",
        "nn.save(model_filename)\n",
        "\n",
        "# Confirmation message\n",
        "print(f\"\\nModel has been saved to {model_filename}\")\n",
        "\n",
        "\n"
      ]
    },
    {
      "cell_type": "code",
      "execution_count": null,
      "metadata": {
        "id": "Yu5Ij6YC7njx"
      },
      "outputs": [],
      "source": []
    }
  ],
  "metadata": {
    "colab": {
      "provenance": [],
      "include_colab_link": true
    },
    "kernelspec": {
      "display_name": "Python 3 (ipykernel)",
      "language": "python",
      "name": "python3"
    },
    "language_info": {
      "codemirror_mode": {
        "name": "ipython",
        "version": 3
      },
      "file_extension": ".py",
      "mimetype": "text/x-python",
      "name": "python",
      "nbconvert_exporter": "python",
      "pygments_lexer": "ipython3",
      "version": "3.10.14"
    },
    "vscode": {
      "interpreter": {
        "hash": "31f2aee4e71d21fbe5cf8b01ff0e069b9275f58929596ceb00d14d90e3e16cd6"
      }
    }
  },
  "nbformat": 4,
  "nbformat_minor": 0
}